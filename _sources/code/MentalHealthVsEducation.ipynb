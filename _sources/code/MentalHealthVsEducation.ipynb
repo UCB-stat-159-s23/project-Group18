{
 "cells": [
  {
   "cell_type": "markdown",
   "id": "5a188c46-6ab2-4f8a-8cc2-64a5181d4aa3",
   "metadata": {},
   "source": [
    "## Education and Performance"
   ]
  },
  {
   "cell_type": "code",
   "execution_count": 1,
   "id": "384b64dd-9327-4055-89c0-f9c70568a451",
   "metadata": {},
   "outputs": [],
   "source": [
    "import pandas as pd\n",
    "import numpy as np\n",
    "import seaborn as sns\n",
    "import matplotlib.pyplot as plt"
   ]
  },
  {
   "cell_type": "code",
   "execution_count": 2,
   "id": "361ae424-3ed5-4786-b387-871135f4d3d3",
   "metadata": {},
   "outputs": [
    {
     "ename": "FileNotFoundError",
     "evalue": "[Errno 2] No such file or directory: 'data/CitieSHealth_BCN_DATA_PanelStudy_20220414_Clean.csv'",
     "output_type": "error",
     "traceback": [
      "\u001b[0;31m---------------------------------------------------------------------------\u001b[0m",
      "\u001b[0;31mFileNotFoundError\u001b[0m                         Traceback (most recent call last)",
      "Cell \u001b[0;32mIn[2], line 1\u001b[0m\n\u001b[0;32m----> 1\u001b[0m data \u001b[38;5;241m=\u001b[39m \u001b[43mpd\u001b[49m\u001b[38;5;241;43m.\u001b[39;49m\u001b[43mread_csv\u001b[49m\u001b[43m(\u001b[49m\u001b[38;5;124;43m'\u001b[39;49m\u001b[38;5;124;43mdata/CitieSHealth_BCN_DATA_PanelStudy_20220414_Clean.csv\u001b[39;49m\u001b[38;5;124;43m'\u001b[39;49m\u001b[43m)\u001b[49m\n\u001b[1;32m      2\u001b[0m data\n",
      "File \u001b[0;32m/srv/conda/envs/notebook/lib/python3.10/site-packages/pandas/util/_decorators.py:211\u001b[0m, in \u001b[0;36mdeprecate_kwarg.<locals>._deprecate_kwarg.<locals>.wrapper\u001b[0;34m(*args, **kwargs)\u001b[0m\n\u001b[1;32m    209\u001b[0m     \u001b[38;5;28;01melse\u001b[39;00m:\n\u001b[1;32m    210\u001b[0m         kwargs[new_arg_name] \u001b[38;5;241m=\u001b[39m new_arg_value\n\u001b[0;32m--> 211\u001b[0m \u001b[38;5;28;01mreturn\u001b[39;00m \u001b[43mfunc\u001b[49m\u001b[43m(\u001b[49m\u001b[38;5;241;43m*\u001b[39;49m\u001b[43margs\u001b[49m\u001b[43m,\u001b[49m\u001b[43m \u001b[49m\u001b[38;5;241;43m*\u001b[39;49m\u001b[38;5;241;43m*\u001b[39;49m\u001b[43mkwargs\u001b[49m\u001b[43m)\u001b[49m\n",
      "File \u001b[0;32m/srv/conda/envs/notebook/lib/python3.10/site-packages/pandas/util/_decorators.py:331\u001b[0m, in \u001b[0;36mdeprecate_nonkeyword_arguments.<locals>.decorate.<locals>.wrapper\u001b[0;34m(*args, **kwargs)\u001b[0m\n\u001b[1;32m    325\u001b[0m \u001b[38;5;28;01mif\u001b[39;00m \u001b[38;5;28mlen\u001b[39m(args) \u001b[38;5;241m>\u001b[39m num_allow_args:\n\u001b[1;32m    326\u001b[0m     warnings\u001b[38;5;241m.\u001b[39mwarn(\n\u001b[1;32m    327\u001b[0m         msg\u001b[38;5;241m.\u001b[39mformat(arguments\u001b[38;5;241m=\u001b[39m_format_argument_list(allow_args)),\n\u001b[1;32m    328\u001b[0m         \u001b[38;5;167;01mFutureWarning\u001b[39;00m,\n\u001b[1;32m    329\u001b[0m         stacklevel\u001b[38;5;241m=\u001b[39mfind_stack_level(),\n\u001b[1;32m    330\u001b[0m     )\n\u001b[0;32m--> 331\u001b[0m \u001b[38;5;28;01mreturn\u001b[39;00m \u001b[43mfunc\u001b[49m\u001b[43m(\u001b[49m\u001b[38;5;241;43m*\u001b[39;49m\u001b[43margs\u001b[49m\u001b[43m,\u001b[49m\u001b[43m \u001b[49m\u001b[38;5;241;43m*\u001b[39;49m\u001b[38;5;241;43m*\u001b[39;49m\u001b[43mkwargs\u001b[49m\u001b[43m)\u001b[49m\n",
      "File \u001b[0;32m/srv/conda/envs/notebook/lib/python3.10/site-packages/pandas/io/parsers/readers.py:950\u001b[0m, in \u001b[0;36mread_csv\u001b[0;34m(filepath_or_buffer, sep, delimiter, header, names, index_col, usecols, squeeze, prefix, mangle_dupe_cols, dtype, engine, converters, true_values, false_values, skipinitialspace, skiprows, skipfooter, nrows, na_values, keep_default_na, na_filter, verbose, skip_blank_lines, parse_dates, infer_datetime_format, keep_date_col, date_parser, dayfirst, cache_dates, iterator, chunksize, compression, thousands, decimal, lineterminator, quotechar, quoting, doublequote, escapechar, comment, encoding, encoding_errors, dialect, error_bad_lines, warn_bad_lines, on_bad_lines, delim_whitespace, low_memory, memory_map, float_precision, storage_options)\u001b[0m\n\u001b[1;32m    935\u001b[0m kwds_defaults \u001b[38;5;241m=\u001b[39m _refine_defaults_read(\n\u001b[1;32m    936\u001b[0m     dialect,\n\u001b[1;32m    937\u001b[0m     delimiter,\n\u001b[0;32m   (...)\u001b[0m\n\u001b[1;32m    946\u001b[0m     defaults\u001b[38;5;241m=\u001b[39m{\u001b[38;5;124m\"\u001b[39m\u001b[38;5;124mdelimiter\u001b[39m\u001b[38;5;124m\"\u001b[39m: \u001b[38;5;124m\"\u001b[39m\u001b[38;5;124m,\u001b[39m\u001b[38;5;124m\"\u001b[39m},\n\u001b[1;32m    947\u001b[0m )\n\u001b[1;32m    948\u001b[0m kwds\u001b[38;5;241m.\u001b[39mupdate(kwds_defaults)\n\u001b[0;32m--> 950\u001b[0m \u001b[38;5;28;01mreturn\u001b[39;00m \u001b[43m_read\u001b[49m\u001b[43m(\u001b[49m\u001b[43mfilepath_or_buffer\u001b[49m\u001b[43m,\u001b[49m\u001b[43m \u001b[49m\u001b[43mkwds\u001b[49m\u001b[43m)\u001b[49m\n",
      "File \u001b[0;32m/srv/conda/envs/notebook/lib/python3.10/site-packages/pandas/io/parsers/readers.py:605\u001b[0m, in \u001b[0;36m_read\u001b[0;34m(filepath_or_buffer, kwds)\u001b[0m\n\u001b[1;32m    602\u001b[0m _validate_names(kwds\u001b[38;5;241m.\u001b[39mget(\u001b[38;5;124m\"\u001b[39m\u001b[38;5;124mnames\u001b[39m\u001b[38;5;124m\"\u001b[39m, \u001b[38;5;28;01mNone\u001b[39;00m))\n\u001b[1;32m    604\u001b[0m \u001b[38;5;66;03m# Create the parser.\u001b[39;00m\n\u001b[0;32m--> 605\u001b[0m parser \u001b[38;5;241m=\u001b[39m \u001b[43mTextFileReader\u001b[49m\u001b[43m(\u001b[49m\u001b[43mfilepath_or_buffer\u001b[49m\u001b[43m,\u001b[49m\u001b[43m \u001b[49m\u001b[38;5;241;43m*\u001b[39;49m\u001b[38;5;241;43m*\u001b[39;49m\u001b[43mkwds\u001b[49m\u001b[43m)\u001b[49m\n\u001b[1;32m    607\u001b[0m \u001b[38;5;28;01mif\u001b[39;00m chunksize \u001b[38;5;129;01mor\u001b[39;00m iterator:\n\u001b[1;32m    608\u001b[0m     \u001b[38;5;28;01mreturn\u001b[39;00m parser\n",
      "File \u001b[0;32m/srv/conda/envs/notebook/lib/python3.10/site-packages/pandas/io/parsers/readers.py:1442\u001b[0m, in \u001b[0;36mTextFileReader.__init__\u001b[0;34m(self, f, engine, **kwds)\u001b[0m\n\u001b[1;32m   1439\u001b[0m     \u001b[38;5;28mself\u001b[39m\u001b[38;5;241m.\u001b[39moptions[\u001b[38;5;124m\"\u001b[39m\u001b[38;5;124mhas_index_names\u001b[39m\u001b[38;5;124m\"\u001b[39m] \u001b[38;5;241m=\u001b[39m kwds[\u001b[38;5;124m\"\u001b[39m\u001b[38;5;124mhas_index_names\u001b[39m\u001b[38;5;124m\"\u001b[39m]\n\u001b[1;32m   1441\u001b[0m \u001b[38;5;28mself\u001b[39m\u001b[38;5;241m.\u001b[39mhandles: IOHandles \u001b[38;5;241m|\u001b[39m \u001b[38;5;28;01mNone\u001b[39;00m \u001b[38;5;241m=\u001b[39m \u001b[38;5;28;01mNone\u001b[39;00m\n\u001b[0;32m-> 1442\u001b[0m \u001b[38;5;28mself\u001b[39m\u001b[38;5;241m.\u001b[39m_engine \u001b[38;5;241m=\u001b[39m \u001b[38;5;28;43mself\u001b[39;49m\u001b[38;5;241;43m.\u001b[39;49m\u001b[43m_make_engine\u001b[49m\u001b[43m(\u001b[49m\u001b[43mf\u001b[49m\u001b[43m,\u001b[49m\u001b[43m \u001b[49m\u001b[38;5;28;43mself\u001b[39;49m\u001b[38;5;241;43m.\u001b[39;49m\u001b[43mengine\u001b[49m\u001b[43m)\u001b[49m\n",
      "File \u001b[0;32m/srv/conda/envs/notebook/lib/python3.10/site-packages/pandas/io/parsers/readers.py:1735\u001b[0m, in \u001b[0;36mTextFileReader._make_engine\u001b[0;34m(self, f, engine)\u001b[0m\n\u001b[1;32m   1733\u001b[0m     \u001b[38;5;28;01mif\u001b[39;00m \u001b[38;5;124m\"\u001b[39m\u001b[38;5;124mb\u001b[39m\u001b[38;5;124m\"\u001b[39m \u001b[38;5;129;01mnot\u001b[39;00m \u001b[38;5;129;01min\u001b[39;00m mode:\n\u001b[1;32m   1734\u001b[0m         mode \u001b[38;5;241m+\u001b[39m\u001b[38;5;241m=\u001b[39m \u001b[38;5;124m\"\u001b[39m\u001b[38;5;124mb\u001b[39m\u001b[38;5;124m\"\u001b[39m\n\u001b[0;32m-> 1735\u001b[0m \u001b[38;5;28mself\u001b[39m\u001b[38;5;241m.\u001b[39mhandles \u001b[38;5;241m=\u001b[39m \u001b[43mget_handle\u001b[49m\u001b[43m(\u001b[49m\n\u001b[1;32m   1736\u001b[0m \u001b[43m    \u001b[49m\u001b[43mf\u001b[49m\u001b[43m,\u001b[49m\n\u001b[1;32m   1737\u001b[0m \u001b[43m    \u001b[49m\u001b[43mmode\u001b[49m\u001b[43m,\u001b[49m\n\u001b[1;32m   1738\u001b[0m \u001b[43m    \u001b[49m\u001b[43mencoding\u001b[49m\u001b[38;5;241;43m=\u001b[39;49m\u001b[38;5;28;43mself\u001b[39;49m\u001b[38;5;241;43m.\u001b[39;49m\u001b[43moptions\u001b[49m\u001b[38;5;241;43m.\u001b[39;49m\u001b[43mget\u001b[49m\u001b[43m(\u001b[49m\u001b[38;5;124;43m\"\u001b[39;49m\u001b[38;5;124;43mencoding\u001b[39;49m\u001b[38;5;124;43m\"\u001b[39;49m\u001b[43m,\u001b[49m\u001b[43m \u001b[49m\u001b[38;5;28;43;01mNone\u001b[39;49;00m\u001b[43m)\u001b[49m\u001b[43m,\u001b[49m\n\u001b[1;32m   1739\u001b[0m \u001b[43m    \u001b[49m\u001b[43mcompression\u001b[49m\u001b[38;5;241;43m=\u001b[39;49m\u001b[38;5;28;43mself\u001b[39;49m\u001b[38;5;241;43m.\u001b[39;49m\u001b[43moptions\u001b[49m\u001b[38;5;241;43m.\u001b[39;49m\u001b[43mget\u001b[49m\u001b[43m(\u001b[49m\u001b[38;5;124;43m\"\u001b[39;49m\u001b[38;5;124;43mcompression\u001b[39;49m\u001b[38;5;124;43m\"\u001b[39;49m\u001b[43m,\u001b[49m\u001b[43m \u001b[49m\u001b[38;5;28;43;01mNone\u001b[39;49;00m\u001b[43m)\u001b[49m\u001b[43m,\u001b[49m\n\u001b[1;32m   1740\u001b[0m \u001b[43m    \u001b[49m\u001b[43mmemory_map\u001b[49m\u001b[38;5;241;43m=\u001b[39;49m\u001b[38;5;28;43mself\u001b[39;49m\u001b[38;5;241;43m.\u001b[39;49m\u001b[43moptions\u001b[49m\u001b[38;5;241;43m.\u001b[39;49m\u001b[43mget\u001b[49m\u001b[43m(\u001b[49m\u001b[38;5;124;43m\"\u001b[39;49m\u001b[38;5;124;43mmemory_map\u001b[39;49m\u001b[38;5;124;43m\"\u001b[39;49m\u001b[43m,\u001b[49m\u001b[43m \u001b[49m\u001b[38;5;28;43;01mFalse\u001b[39;49;00m\u001b[43m)\u001b[49m\u001b[43m,\u001b[49m\n\u001b[1;32m   1741\u001b[0m \u001b[43m    \u001b[49m\u001b[43mis_text\u001b[49m\u001b[38;5;241;43m=\u001b[39;49m\u001b[43mis_text\u001b[49m\u001b[43m,\u001b[49m\n\u001b[1;32m   1742\u001b[0m \u001b[43m    \u001b[49m\u001b[43merrors\u001b[49m\u001b[38;5;241;43m=\u001b[39;49m\u001b[38;5;28;43mself\u001b[39;49m\u001b[38;5;241;43m.\u001b[39;49m\u001b[43moptions\u001b[49m\u001b[38;5;241;43m.\u001b[39;49m\u001b[43mget\u001b[49m\u001b[43m(\u001b[49m\u001b[38;5;124;43m\"\u001b[39;49m\u001b[38;5;124;43mencoding_errors\u001b[39;49m\u001b[38;5;124;43m\"\u001b[39;49m\u001b[43m,\u001b[49m\u001b[43m \u001b[49m\u001b[38;5;124;43m\"\u001b[39;49m\u001b[38;5;124;43mstrict\u001b[39;49m\u001b[38;5;124;43m\"\u001b[39;49m\u001b[43m)\u001b[49m\u001b[43m,\u001b[49m\n\u001b[1;32m   1743\u001b[0m \u001b[43m    \u001b[49m\u001b[43mstorage_options\u001b[49m\u001b[38;5;241;43m=\u001b[39;49m\u001b[38;5;28;43mself\u001b[39;49m\u001b[38;5;241;43m.\u001b[39;49m\u001b[43moptions\u001b[49m\u001b[38;5;241;43m.\u001b[39;49m\u001b[43mget\u001b[49m\u001b[43m(\u001b[49m\u001b[38;5;124;43m\"\u001b[39;49m\u001b[38;5;124;43mstorage_options\u001b[39;49m\u001b[38;5;124;43m\"\u001b[39;49m\u001b[43m,\u001b[49m\u001b[43m \u001b[49m\u001b[38;5;28;43;01mNone\u001b[39;49;00m\u001b[43m)\u001b[49m\u001b[43m,\u001b[49m\n\u001b[1;32m   1744\u001b[0m \u001b[43m\u001b[49m\u001b[43m)\u001b[49m\n\u001b[1;32m   1745\u001b[0m \u001b[38;5;28;01massert\u001b[39;00m \u001b[38;5;28mself\u001b[39m\u001b[38;5;241m.\u001b[39mhandles \u001b[38;5;129;01mis\u001b[39;00m \u001b[38;5;129;01mnot\u001b[39;00m \u001b[38;5;28;01mNone\u001b[39;00m\n\u001b[1;32m   1746\u001b[0m f \u001b[38;5;241m=\u001b[39m \u001b[38;5;28mself\u001b[39m\u001b[38;5;241m.\u001b[39mhandles\u001b[38;5;241m.\u001b[39mhandle\n",
      "File \u001b[0;32m/srv/conda/envs/notebook/lib/python3.10/site-packages/pandas/io/common.py:856\u001b[0m, in \u001b[0;36mget_handle\u001b[0;34m(path_or_buf, mode, encoding, compression, memory_map, is_text, errors, storage_options)\u001b[0m\n\u001b[1;32m    851\u001b[0m \u001b[38;5;28;01melif\u001b[39;00m \u001b[38;5;28misinstance\u001b[39m(handle, \u001b[38;5;28mstr\u001b[39m):\n\u001b[1;32m    852\u001b[0m     \u001b[38;5;66;03m# Check whether the filename is to be opened in binary mode.\u001b[39;00m\n\u001b[1;32m    853\u001b[0m     \u001b[38;5;66;03m# Binary mode does not support 'encoding' and 'newline'.\u001b[39;00m\n\u001b[1;32m    854\u001b[0m     \u001b[38;5;28;01mif\u001b[39;00m ioargs\u001b[38;5;241m.\u001b[39mencoding \u001b[38;5;129;01mand\u001b[39;00m \u001b[38;5;124m\"\u001b[39m\u001b[38;5;124mb\u001b[39m\u001b[38;5;124m\"\u001b[39m \u001b[38;5;129;01mnot\u001b[39;00m \u001b[38;5;129;01min\u001b[39;00m ioargs\u001b[38;5;241m.\u001b[39mmode:\n\u001b[1;32m    855\u001b[0m         \u001b[38;5;66;03m# Encoding\u001b[39;00m\n\u001b[0;32m--> 856\u001b[0m         handle \u001b[38;5;241m=\u001b[39m \u001b[38;5;28;43mopen\u001b[39;49m\u001b[43m(\u001b[49m\n\u001b[1;32m    857\u001b[0m \u001b[43m            \u001b[49m\u001b[43mhandle\u001b[49m\u001b[43m,\u001b[49m\n\u001b[1;32m    858\u001b[0m \u001b[43m            \u001b[49m\u001b[43mioargs\u001b[49m\u001b[38;5;241;43m.\u001b[39;49m\u001b[43mmode\u001b[49m\u001b[43m,\u001b[49m\n\u001b[1;32m    859\u001b[0m \u001b[43m            \u001b[49m\u001b[43mencoding\u001b[49m\u001b[38;5;241;43m=\u001b[39;49m\u001b[43mioargs\u001b[49m\u001b[38;5;241;43m.\u001b[39;49m\u001b[43mencoding\u001b[49m\u001b[43m,\u001b[49m\n\u001b[1;32m    860\u001b[0m \u001b[43m            \u001b[49m\u001b[43merrors\u001b[49m\u001b[38;5;241;43m=\u001b[39;49m\u001b[43merrors\u001b[49m\u001b[43m,\u001b[49m\n\u001b[1;32m    861\u001b[0m \u001b[43m            \u001b[49m\u001b[43mnewline\u001b[49m\u001b[38;5;241;43m=\u001b[39;49m\u001b[38;5;124;43m\"\u001b[39;49m\u001b[38;5;124;43m\"\u001b[39;49m\u001b[43m,\u001b[49m\n\u001b[1;32m    862\u001b[0m \u001b[43m        \u001b[49m\u001b[43m)\u001b[49m\n\u001b[1;32m    863\u001b[0m     \u001b[38;5;28;01melse\u001b[39;00m:\n\u001b[1;32m    864\u001b[0m         \u001b[38;5;66;03m# Binary mode\u001b[39;00m\n\u001b[1;32m    865\u001b[0m         handle \u001b[38;5;241m=\u001b[39m \u001b[38;5;28mopen\u001b[39m(handle, ioargs\u001b[38;5;241m.\u001b[39mmode)\n",
      "\u001b[0;31mFileNotFoundError\u001b[0m: [Errno 2] No such file or directory: 'data/CitieSHealth_BCN_DATA_PanelStudy_20220414_Clean.csv'"
     ]
    }
   ],
   "source": [
    "data = pd.read_csv('data/CitieSHealth_BCN_DATA_PanelStudy_20220414_Clean.csv')\n",
    "data"
   ]
  },
  {
   "cell_type": "code",
   "execution_count": 233,
   "id": "c9c8e8dd-a40c-4c9b-b155-8c9426bf53b2",
   "metadata": {},
   "outputs": [],
   "source": [
    "sns.histplot(x = 'performance', hue = 'education', data = data)\n",
    "\n",
    "plt.savefig('outputs/histogram_for_performance')"
   ]
  },
  {
   "cell_type": "code",
   "execution_count": 234,
   "id": "c5267f03-bb8d-4c6d-950b-9d99fe3aa69c",
   "metadata": {},
   "outputs": [],
   "source": [
    "sns.histplot(x = 'occurrence_mental', hue = 'education', data = data)\n",
    "\n",
    "plt.savefig('outputs/histogram_for_occurrence_mental')"
   ]
  },
  {
   "cell_type": "code",
   "execution_count": 235,
   "id": "a5a410dc-ce08-405f-b00e-0a894ae8b72b",
   "metadata": {},
   "outputs": [],
   "source": [
    "sns.histplot(x = 'stress', hue = 'education', data = data)\n",
    "\n",
    "plt.savefig('outputs/histogram_for_stress')"
   ]
  },
  {
   "cell_type": "code",
   "execution_count": 236,
   "id": "80b27115-ef79-4f25-b800-a2e1d8952160",
   "metadata": {},
   "outputs": [],
   "source": [
    "sns.barplot(x = 'education', y = 'stress', data = data)\n",
    "\n",
    "plt.savefig('outputs/barplot_for_stressVsEducation')"
   ]
  },
  {
   "cell_type": "code",
   "execution_count": 237,
   "id": "7968afe7-42e7-4c7a-9afa-bb0929de4345",
   "metadata": {},
   "outputs": [],
   "source": [
    "sns.barplot(x = 'education', y = 'occurrence_mental', data = data)\n",
    "\n",
    "plt.savefig('outputs/barplot_for_occurrenceVsEducation')"
   ]
  },
  {
   "cell_type": "code",
   "execution_count": 238,
   "id": "14bdd7c0-03b3-4759-bb4a-41dcae069ca6",
   "metadata": {},
   "outputs": [],
   "source": [
    "sns.barplot(x = 'education', y = 'performance', data = data)\n",
    "\n",
    "plt.savefig('outputs/barplot_for_performanceVsEducation')"
   ]
  },
  {
   "cell_type": "code",
   "execution_count": 239,
   "id": "09c0598f-f8ac-40a0-aa52-cfba46a8596c",
   "metadata": {},
   "outputs": [],
   "source": [
    "sns.scatterplot(x = 'stress', y = 'performance', hue = 'education', data = data)\n",
    "\n",
    "plt.savefig('outputs/scatterplot_for_stressVsperformance')"
   ]
  },
  {
   "cell_type": "code",
   "execution_count": 240,
   "id": "3893b335-7fa3-4168-804d-9c5cd0875e1e",
   "metadata": {},
   "outputs": [],
   "source": [
    "sns.scatterplot(x = 'occurrence_mental', y = 'performance', hue = 'education', data = data)\n",
    "\n",
    "plt.savefig('outputs/scatterplot_for_occurrenceVsperformance')"
   ]
  },
  {
   "cell_type": "code",
   "execution_count": 220,
   "id": "b6106aa0-d935-4601-9c84-acfcfe6ef17b",
   "metadata": {},
   "outputs": [],
   "source": [
    "average_mental_health_issue_occurence_univ = np.mean(data[data['education'] == 'university']['occurrence_mental'])\n",
    "average_mental_health_issue_occurence_bac = np.mean(data[data['education'] == 'baccalaureate']['occurrence_mental'])\n",
    "average_mental_health_issue_occurence_pri_less = np.mean(data[data['education'] == 'primary or less']['occurrence_mental'])\n",
    "\n",
    "print('Average Mental Health Issue Occurence for people with University education is {:0.3f}'.format(average_mental_health_issue_occurence_univ))\n",
    "print('Average Mental Health Issue Occurence for people with Baccalaureate education is {:0.3f}'.format(average_mental_health_issue_occurence_bac))\n",
    "print('Average Mental Health Issue Occurence for people with Primary or less education is {:0.3f}'.format(average_mental_health_issue_occurence_pri_less))"
   ]
  },
  {
   "cell_type": "code",
   "execution_count": 221,
   "id": "79e97a47-54b3-4264-8690-cffb7902d77f",
   "metadata": {},
   "outputs": [],
   "source": [
    "average_stress_univ = np.mean(data[data['education'] == 'university']['stress'])\n",
    "average_stress_bac = np.mean(data[data['education'] == 'baccalaureate']['stress'])\n",
    "average_stress_pri_less = np.mean(data[data['education'] == 'primary or less']['stress'])\n",
    "\n",
    "print('Average Stress Level for people with University education is {:0.3f}'.format(average_stress_univ))\n",
    "print('Average Stress Level for people with Baccalaureate education is {:0.3f}'.format(average_stress_bac))\n",
    "print('Average Stress Level for people with Primary or less education is {:0.3f}'.format(average_stress_pri_less))"
   ]
  },
  {
   "cell_type": "code",
   "execution_count": 222,
   "id": "a5e000d6-a7e2-452d-be0c-d16ea83c504f",
   "metadata": {},
   "outputs": [],
   "source": [
    "average_performance_univ = np.mean(data[data['education'] == 'university']['performance'])\n",
    "average_performance_bac = np.mean(data[data['education'] == 'baccalaureate']['performance'])\n",
    "average_performance_pri_less = np.mean(data[data['education'] == 'primary or less']['performance'])\n",
    "\n",
    "print('Average Stroop Test score for people with University education is {:0.3f}'.format(average_performance_univ))\n",
    "print('Average Stroop Test score for people with Baccalaureate education is {:0.3f}'.format(average_performance_bac))\n",
    "print('Average Stroop Test score for people with Primary or less education is {:0.3f}'.format(average_performance_pri_less))"
   ]
  },
  {
   "cell_type": "code",
   "execution_count": 210,
   "id": "517f7a50-a1d3-49cb-b937-a205c06e5bd3",
   "metadata": {},
   "outputs": [],
   "source": [
    "def hypothesis_testing(educ1, educ2, column, data, observed_diff, cutoff):\n",
    "    diffs = []\n",
    "    for i in np.arange(20000):\n",
    "        data['shuffled_education'] = data['education'].sample(frac = 1, replace = False).values\n",
    "        diff = np.abs(np.mean(data[data['shuffled_education'] == educ1][column]) - np.mean(data[data['shuffled_education'] == educ2][column]))\n",
    "        diffs += [diff]\n",
    "        data = data.drop(['shuffled_education'], axis = 1)\n",
    "        \n",
    "    pvalue = sum(observed_diff <= diffs) / len(diffs)\n",
    "    if pvalue <= cutoff:\n",
    "        print('P value is {:0.3f}'.format(pvalue) + '.' + ' ' + 'Thus, Reject the Null Hypothesis')\n",
    "    else:\n",
    "        print('P value is {:0.3f}'.format(pvalue) + '.' + ' ' + 'Thus, Fail to Rejct the Null Hypothesis')"
   ]
  },
  {
   "cell_type": "code",
   "execution_count": 211,
   "id": "3ae3f56c-f973-440b-8ac9-e51a1b7ad9e8",
   "metadata": {},
   "outputs": [],
   "source": [
    "observed_diff = np.abs(average_mental_health_issue_occurence_univ - average_mental_health_issue_occurence_bac)\n",
    "hypothesis_testing('university', 'baccalaureate', 'occurrence_mental', data, observed_diff, 0.05)"
   ]
  },
  {
   "cell_type": "code",
   "execution_count": 212,
   "id": "0cbf10ac-adfc-40fa-84c2-5240a4897490",
   "metadata": {},
   "outputs": [],
   "source": [
    "observed_diff = np.abs(average_mental_health_issue_occurence_univ - average_mental_health_issue_occurence_pri_less)\n",
    "hypothesis_testing('university', 'primary or less', 'occurrence_mental', data, observed_diff, 0.05)"
   ]
  },
  {
   "cell_type": "code",
   "execution_count": 213,
   "id": "bf7699be-76a3-401c-9e7d-03f8708e01cf",
   "metadata": {},
   "outputs": [],
   "source": [
    "observed_diff = np.abs(average_mental_health_issue_occurence_bac - average_mental_health_issue_occurence_pri_less)\n",
    "hypothesis_testing('baccalaureate', 'primary or less', 'occurrence_mental', data, observed_diff, 0.05)"
   ]
  },
  {
   "cell_type": "code",
   "execution_count": 214,
   "id": "c14b85b7-a6bd-4444-a4dd-31616385e81a",
   "metadata": {},
   "outputs": [],
   "source": [
    "observed_diff = np.abs(average_stress_univ - average_stress_bac)\n",
    "hypothesis_testing('university', 'baccalaureate', 'stress', data, observed_diff, 0.05)"
   ]
  },
  {
   "cell_type": "code",
   "execution_count": 215,
   "id": "fea09d0a-56ed-4bb4-b4af-8886696a7f45",
   "metadata": {},
   "outputs": [],
   "source": [
    "observed_diff = np.abs(average_stress_univ - average_stress_pri_less)\n",
    "hypothesis_testing('university', 'primary or less', 'stress', data, observed_diff, 0.05)"
   ]
  },
  {
   "cell_type": "code",
   "execution_count": 216,
   "id": "3fc2451d-41de-480e-94a0-798b4108f52d",
   "metadata": {},
   "outputs": [],
   "source": [
    "observed_diff = np.abs(average_stress_pri_less - average_stress_bac)\n",
    "hypothesis_testing('primary or less', 'baccalaureate', 'stress', data, observed_diff, 0.05)"
   ]
  },
  {
   "cell_type": "code",
   "execution_count": 217,
   "id": "4d743a24-6235-460c-b806-b6543a85491a",
   "metadata": {},
   "outputs": [],
   "source": [
    "observed_diff = np.abs(average_performance_univ - average_performance_bac)\n",
    "hypothesis_testing('university', 'baccalaureate', 'performance', data, observed_diff, 0.05)"
   ]
  },
  {
   "cell_type": "code",
   "execution_count": 218,
   "id": "290f9cde-2a24-4145-988f-6f8294977abd",
   "metadata": {},
   "outputs": [],
   "source": [
    "observed_diff = np.abs(average_performance_univ - average_performance_pri_less)\n",
    "hypothesis_testing('university', 'primary or less', 'performance', data, observed_diff, 0.05)"
   ]
  },
  {
   "cell_type": "code",
   "execution_count": 219,
   "id": "fccd3b00-1a5c-4d96-aed3-2c9d90e8e78d",
   "metadata": {},
   "outputs": [],
   "source": [
    "observed_diff = np.abs(average_performance_bac - average_performance_pri_less)\n",
    "hypothesis_testing('baccalaureate', 'primary or less', 'performance', data, observed_diff, 0.05)"
   ]
  },
  {
   "cell_type": "code",
   "execution_count": null,
   "id": "671c70b0-2b93-4347-a27d-ea35a811a854",
   "metadata": {},
   "outputs": [],
   "source": []
  }
 ],
 "metadata": {
  "kernelspec": {
   "display_name": "Python 3 (ipykernel)",
   "language": "python",
   "name": "python3"
  },
  "language_info": {
   "codemirror_mode": {
    "name": "ipython",
    "version": 3
   },
   "file_extension": ".py",
   "mimetype": "text/x-python",
   "name": "python",
   "nbconvert_exporter": "python",
   "pygments_lexer": "ipython3",
   "version": "3.10.8"
  }
 },
 "nbformat": 4,
 "nbformat_minor": 5
}
