{
 "cells": [
  {
   "attachments": {
    "162bd424-6967-42db-945d-37471adbcfd5.png": {
     "image/png": "[encoded data removed]"
    },
    "898e3fd7-b336-4035-bc56-cc8d637cd7df.png": {
     "image/png": "[encoded data removed]"
    },
    "ab24d0db-3c1e-4471-87d4-8dce602c225b.png": {
     "image/png": "[encoded data removed]"
    },
    "d6f51277-30ae-4ead-8eb6-c418d7b301db.png": {
     "image/png": "[encoded data removed]"
    }
   },
   "cell_type": "markdown",
   "id": "8056f1b9-8927-4c90-9876-ebbdd15b95c5",
   "metadata": {
    "user_expressions": []
   },
   "source": [
    "# Analysis of the Influence of Air Pollution and Other Factors on Human Health\n",
    "By Group 18: Peiying Guan, Yingyi Huang, Ye Joon Han, Michelle Fong"
   ]
  },
  {
   "cell_type": "markdown",
   "id": "f215a5b5-6344-4d98-95c3-7fa229aa93d6",
   "metadata": {
    "user_expressions": []
   },
   "source": [
    "## Introduction\n",
    "Mental illness is a widespread health challenge which is one of the leading causes of illness and disability around the world. A lot of studies showed that mental issues are complex and multi-causal.\n",
    "\n",
    "In this project, we are going to examine the effects of various air pollutants(NO2, PM2.5, black carbon) on human mental health and wellbeing. In addition to air pollutants, we also want to see how other factors, including green space access and education level, affect people's performance in Stroop test. A Stroop test measures a person's cognitive function by assessing their attention capacity and processing abilities. \n",
    "\n",
    "Note: Code used to create figures is located in the `code` folder."
   ]
  },
  {
   "cell_type": "markdown",
   "id": "b375c1d2-c5c4-463f-baf5-08fa586083ca",
   "metadata": {
    "user_expressions": []
   },
   "source": [
    "## Data\n",
    "\n",
    "#### Data Acquisition\n",
    "The dataset contains the data collected for the Barcelona epidemiological research study within the framework of the CitieS-Health project. Data were collected from September 2020 to March 2021 in Barcelona, Spain. It can be accessed through [air pollution and mental health](https://www.kaggle.com/datasets/thedevastator/air-pollution-and-mental-health?resource=download).\n",
    "\n",
    "#### Data Cleaning\n",
    "The original data contains 3348 rows and 95 columns. By selecting some variable that we are interested in and removing rows with missing values, we reduced the data to 2221 rows and 16 columns. Since the data was collected in Spain, we need to translate some Spanish contents into English."
   ]
  },
  {
   "cell_type": "markdown",
   "id": "5e4322fb-6b32-4d90-b0c2-aedf2b10c958",
   "metadata": {
    "user_expressions": []
   },
   "source": [
    "## Exploratory Data Analysis and Interpretation of Plots"
   ]
  },
  {
   "cell_type": "markdown",
   "id": "20a18696-e96d-4309-923a-43cf921488ba",
   "metadata": {
    "user_expressions": []
   },
   "source": [
    "#### Performance Over Time\n",
    "\n",
    "To examine and graph variables over time, we created a column called `datetime`, which combines year, month, and day into a pandas datetime object. \n",
    "\n",
    "![plot1](outputs/dates_performance.png) \n",
    "\n",
    "Examining the distribution of dates, we see that most entries are from September 2020 to December 2020, with the remaining entries mostly from January 2021 to March 2021.\n",
    "\n",
    "Looking at the ID column, most individuals appear multiple times in the dataset. We took the 5 individuals with the most entries in the dataset and plotted their performance over time to see how performance generally varies per individual.\n",
    "\n",
    "![plot2](outputs/ind_performance.png) \n",
    "\n",
    "Plotting performance by individuals over time, we notice that individuals are recorded over different periods of time. Performance tends to moves up and down quite a bit for each individual. Next, we quantify how much performance tends to range for individuals. \n",
    "\n",
    "![plot3](outputs/range_performance.png) \n",
    "\n",
    "The graph above shows the distribution of the difference between the maximum and minimum performance score per individual - the range of performance range for individuals. The mean is around 20, which means that mental health performance does in fact range quite a bit for each individual on average.\n",
    "\n",
    "Finally, we plot the mean performance for all individuals over time and compare this with the N02 levels over time, a measure of air quality, to examine whether they tend to have the same trends over time. \n",
    "\n",
    "![plot4](outputs/mean_performance.png) \n",
    "\n",
    "Plotting these two together, we see that it is possible that performance and pollution follow the same trends, but it is difficult to tell for sure with the ups and downs of both. This motivates further analysis of pollutants and environmental exposures in the next section."
   ]
  },
  {
   "cell_type": "markdown",
   "id": "7fb5a0c5-4467-4474-8758-11f251e3d95e",
   "metadata": {
    "tags": [],
    "user_expressions": []
   },
   "source": [
    "#### Pollutants vs. Health\n",
    "We explored the pairwise relationships between environmental exposures(NO2, PM2.5, black carbon) and mental health measurement(stroop test performance, occurrence of mental issues, wellbeing, stress levels, sleep quality), but found no observable correlation among any pairs. \n",
    "![pairwise](outputs/pollutants_vs_health.png)\n",
    "\n",
    "We noted that the dots in the top three plots were very cluster. To reduce the effect of overplotting, we created three plots that showed the contours of the kernel density estimate for stroop test performance and air pollutants. Grouping by gender, we found that the contours of main plots from male and female were similar. Therefore, we further expanded the conclusions we made in pairwise plots that there was no correlation between air pollutants and stroop test performance. \n",
    "\n",
    "![kde1](outputs/no2_vs_performance.png) \n",
    "![kde2](outputs/pm25_vs_performance.png)\n",
    "![kde3](outputs/blackcarbon_vs_performance.png)"
   ]
  },
  {
   "cell_type": "markdown",
   "id": "6c04dbba-5db2-4268-978e-34eaa2f55da5",
   "metadata": {
    "user_expressions": []
   },
   "source": [
    "#### Relationship among Mental Health Test Performance, Stress, Mental Health Issue Occurrence, and Education Level"
   ]
  },
  {
   "cell_type": "markdown",
   "id": "2e9aef8d-f328-404c-b913-bae856fe2be1",
   "metadata": {
    "user_expressions": []
   },
   "source": [
    "We first investigated how do the histogram distributions of mental health test performance, stress, mental health issue occurrence look like based on education levels, including university, baccalaureate, and primary or less. We observed that the distributions of those features for all education levels are overlapping with one another.\n",
    "\n",
    "![hist1](outputs/histogram_for_performance.png)\n",
    "![hist2](outputs/histogram_for_stress.png)\n",
    "![hist3](outputs/histogram_for_occurrence_mental.png)"
   ]
  },
  {
   "cell_type": "markdown",
   "id": "fdd8894c-5e92-4102-a293-f6c3f22de124",
   "metadata": {
    "user_expressions": []
   },
   "source": [
    "We also looked into the relationship between education and mental health test performance, education and stress, and education and occurrence of mental health issue through bar plots. We observed that the baccalaureate degree group has the highest stress level and performance on the test, and primary or less education group has the lowest stress level and performance on the test. We also observed that the university degree group have the largest number of occurrence of mental health issue.\n",
    "\n",
    "![bar1](outputs/barplot_for_performanceVsEducation.png)\n",
    "![bar2](outputs/barplot_for_stressVsEducation.png)\n",
    "![bar3](outputs/barplot_for_occurrenceVsEducation.png)"
   ]
  },
  {
   "cell_type": "markdown",
   "id": "e4d22d29-e3be-4689-a999-12ef31b7a3f0",
   "metadata": {
    "user_expressions": []
   },
   "source": [
    "Moreover, we looked into the relationship among stress, mental health issue occurrence, and performance through scatter plot. We observed somewhat negative relationship between the stress and the performance on test, and somewhat positive relationship between occurrence of mental health issue and the performance, and the relationship does not seem to vary based on the education level. \n",
    "\n",
    "![scatter1](outputs/scatterplot_for_stressVsperformance.png)\n",
    "![scatter2](outputs/scatterplot_for_occurrenceVsperformance.png)"
   ]
  },
  {
   "cell_type": "markdown",
   "id": "fac09cd1-643a-4c92-ab57-5b5091793164",
   "metadata": {
    "user_expressions": []
   },
   "source": [
    "Based on the histogram distributions, we established a null hypothesis that states that there would be no difference in the average performance, average stress level, and average occurrence of mental health issue between people with university and people with baccalaureate, people with university and people with primary or less education background, and people with baccalaureate and people with primary or less education background, and alternative hypothesis is that there would be a difference. Since our null hypothesis assumes that education has nothing do with mental health, we decided to perform A/B testing because if the null hypothesis is true, the difference in average performance, stress level, and occurrence of mental health issue would be just 0 regardless of the education level. Using the 0.05 as a significance level, we were able to reject the null hypothesis that there is no difference in average occurrence of mental health issue between people with university degree and people with baccalaureate. However, we failed to reject the null hypotheses that there is no difference in average occurrence between people with university degree and people with primary or less education background, and also same for people with baccalaureate and people with primary or less education. We failed to reject the null hypotheses that there is no difference in average stress level for people with university, baccalaureate, and primary or less education. On the other hand, we rejected the null hypotheses that there is no difference in average performance for people with those education backgrounds. "
   ]
  },
  {
   "cell_type": "code",
   "execution_count": null,
   "id": "457937be-2405-4eb4-bf53-ef64d3c1664a",
   "metadata": {},
   "outputs": [],
   "source": []
  },
  {
   "cell_type": "markdown",
   "id": "e6c6b49c-3f0f-4971-a440-9de6de76975e",
   "metadata": {
    "user_expressions": []
   },
   "source": [
    "## Conclusion\n",
    "\n",
    "Based on our exploratory analysis of air pollutants, education, and Stroop test performance, we found that there is no correlation between air pollutants and Stroop test performance and between mental health occurrences and education. There is some correlation between average performance and education background, and further work could explore this in more detail. "
   ]
  },
  {
   "cell_type": "markdown",
   "id": "4c0c67bb-4431-4cca-a469-be6757382937",
   "metadata": {
    "user_expressions": []
   },
   "source": [
    "## Author Contributions\n",
    "**Peiying Guan**\n",
    "\n",
    "1. Performed data cleaning(`DataCleaning.ipynb`) and import `data`\n",
    "2. Analyzed the effects of air pollutants on human health(`PollutantsVsWellbeing.ipynb`)\n",
    "3. Contributed parts of `main.ipynb`, including introduction, data, and some in EDA\n",
    "\n",
    "**Ye Joon Han**\n",
    "1. Analyzed the relationship among mental health test performance, stress, occurrence of mental health issue, and education through data visualization and hypothesis testing (`MentalHealthVsEducation.ipynb`)\n",
    "2. Contributed to `main.ipynb` by including Exploratory Data Analysis and the justification and details of the hypothesis testing.\n",
    "3. Created Makefile with \"env\" and \"all\" targets.\n",
    "4. Included `LICENSE.md`.\n",
    "\n",
    "**Michelle Fong**\n",
    "1. Analyzed performance over time (`PerformanceOverTime.ipynb`)\n",
    "2. Contributed to `main.ipynb` by including graphs and explanation.\n",
    "3. Created JupyterBook and continuous integration."
   ]
  }
 ],
 "metadata": {
  "kernelspec": {
   "display_name": "Python 3 (ipykernel)",
   "language": "python",
   "name": "python3"
  },
  "language_info": {
   "codemirror_mode": {
    "name": "ipython",
    "version": 3
   },
   "file_extension": ".py",
   "mimetype": "text/x-python",
   "name": "python",
   "nbconvert_exporter": "python",
   "pygments_lexer": "ipython3",
   "version": "3.10.8"
  }
 },
 "nbformat": 4,
 "nbformat_minor": 5
}
