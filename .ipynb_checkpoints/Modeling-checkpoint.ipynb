{
 "cells": [
  {
   "cell_type": "markdown",
   "id": "096b603f-8705-4541-a42f-c900714f2eda",
   "metadata": {},
   "source": [
    "# Predicting Mental Health Performance\n",
    "We create models to predict mental health performance using other features."
   ]
  },
  {
   "cell_type": "code",
   "execution_count": 68,
   "id": "47efd093-95e6-48e7-a6fb-bb536c3be8d9",
   "metadata": {},
   "outputs": [],
   "source": [
    "import numpy as np\n",
    "import pandas as pd\n",
    "import matplotlib.pyplot as plt\n",
    "import seaborn as sns\n",
    "import statsmodels.formula.api as smf\n",
    "import sklearn\n",
    "from sklearn.preprocessing import OneHotEncoder\n",
    "from sklearn.model_selection import train_test_split\n",
    "from sklearn.linear_model import LinearRegression\n",
    "from sklearn.metrics import mean_squared_error\n",
    "from sklearn.ensemble import RandomForestRegressor\n",
    "from sklearn import tree\n",
    "from sklearn.metrics import roc_curve, roc_auc_score"
   ]
  },
  {
   "cell_type": "code",
   "execution_count": 4,
   "id": "352378ba-27c6-41c2-9161-7ca0bdd8e2e2",
   "metadata": {},
   "outputs": [],
   "source": [
    "# use cleaned dataset\n",
    "df = pd.read_csv('data/CitieSHealth_BCN_DATA_PanelStudy_20220414_Clean.csv')\n",
    "df.head()"
   ]
  },
  {
   "cell_type": "code",
   "execution_count": 5,
   "id": "445f2fd1-04f3-4099-a1be-c4ad1b7be5ec",
   "metadata": {},
   "outputs": [],
   "source": [
    "numerical = list((df.dtypes[df.dtypes == 'float64'].index) | (df.dtypes[df.dtypes == 'int64'].index))\n",
    "categorical = list((df.dtypes[df.dtypes != 'float64'].index) & (df.dtypes[df.dtypes != 'int64'].index))"
   ]
  },
  {
   "cell_type": "code",
   "execution_count": 15,
   "id": "ed4c73c5-cf5a-4eeb-8b41-1668d4410755",
   "metadata": {},
   "outputs": [],
   "source": [
    "def ohe(data, column):\n",
    "    enc = OneHotEncoder()\n",
    "    enc.fit(data[column])\n",
    "    encoded_data = pd.DataFrame(enc.transform(data[column]).toarray().astype(int))\n",
    "    encoded_data.columns = enc.get_feature_names_out()\n",
    "    encoded_data = encoded_data.set_index(data.index)\n",
    "    return encoded_data"
   ]
  },
  {
   "cell_type": "code",
   "execution_count": 20,
   "id": "b5782564-0d05-47a0-862d-0d07d375c1d3",
   "metadata": {},
   "outputs": [],
   "source": [
    "ohe_df = pd.concat([df[numerical], ohe(df[categorical], categorical)], axis=1)\n",
    "ohe_df.head()"
   ]
  },
  {
   "cell_type": "code",
   "execution_count": 22,
   "id": "019adaf1-17cc-41af-9c04-50a3df3f3b1a",
   "metadata": {},
   "outputs": [],
   "source": [
    "X = ohe_df.drop('performance', axis=1)\n",
    "y = ohe_df['performance']"
   ]
  },
  {
   "cell_type": "code",
   "execution_count": 23,
   "id": "b3b98c67-50e2-4e3b-adad-dbb63c056901",
   "metadata": {},
   "outputs": [],
   "source": [
    "X_train, X_test, y_train, y_test = train_test_split(X, y, test_size = 0.3, random_state = 0)"
   ]
  },
  {
   "cell_type": "markdown",
   "id": "3adce0dc-717e-4fbe-8333-cd76d238b90d",
   "metadata": {},
   "source": [
    "## Linear Regression"
   ]
  },
  {
   "cell_type": "code",
   "execution_count": 25,
   "id": "e0d4b7be-d9d1-4753-bd13-d11e679154bd",
   "metadata": {},
   "outputs": [],
   "source": [
    "model = LinearRegression().fit(X_train, y_train)"
   ]
  },
  {
   "cell_type": "code",
   "execution_count": 32,
   "id": "3ad95ab2-879f-4dad-a309-6c80379fe0b0",
   "metadata": {},
   "outputs": [],
   "source": [
    "print('model intercept :', model.intercept_)\n",
    "print('model coefficients : ', model.coef_)\n",
    "print('Model score : ', model.score(X, y))"
   ]
  },
  {
   "cell_type": "code",
   "execution_count": 28,
   "id": "d35dfe65-164c-4bff-b687-79c9624e18d0",
   "metadata": {},
   "outputs": [],
   "source": [
    "y_pred = model.predict(X_test)"
   ]
  },
  {
   "cell_type": "code",
   "execution_count": 29,
   "id": "48b8657d-d5be-45c6-b7a2-9306d0ea46b7",
   "metadata": {},
   "outputs": [],
   "source": [
    "mean_squared_error(y_test, y_pred)"
   ]
  },
  {
   "cell_type": "markdown",
   "id": "a5cba2aa-dbfd-4ddb-a194-bba16a918222",
   "metadata": {},
   "source": [
    "## Random Forest"
   ]
  },
  {
   "cell_type": "code",
   "execution_count": 71,
   "id": "bd21b0c2-6057-4d9d-be3d-100bf468458d",
   "metadata": {},
   "outputs": [],
   "source": [
    "model = RandomForestRegressor(n_estimators=100, max_depth=4, random_state=0)\n",
    "model.fit(X_train, y_train)\n",
    "y_pred = model.predict(X_test)"
   ]
  },
  {
   "cell_type": "code",
   "execution_count": 72,
   "id": "b48f1403-2ea2-4352-9770-687be035a2e8",
   "metadata": {},
   "outputs": [],
   "source": [
    "mean_squared_error(y_test, y_pred)"
   ]
  },
  {
   "cell_type": "code",
   "execution_count": 75,
   "id": "0d9bd415-bd57-4f8d-bddc-728ebe7e7806",
   "metadata": {},
   "outputs": [],
   "source": [
    "fig, axes = plt.subplots(nrows = 1,ncols = 1,figsize = (4,4), dpi=800)\n",
    "tree.plot_tree(model.estimators_[0]);"
   ]
  }
 ],
 "metadata": {
  "kernelspec": {
   "display_name": "Python 3 (ipykernel)",
   "language": "python",
   "name": "python3"
  },
  "language_info": {
   "codemirror_mode": {
    "name": "ipython",
    "version": 3
   },
   "file_extension": ".py",
   "mimetype": "text/x-python",
   "name": "python",
   "nbconvert_exporter": "python",
   "pygments_lexer": "ipython3",
   "version": "3.10.8"
  }
 },
 "nbformat": 4,
 "nbformat_minor": 5
}
