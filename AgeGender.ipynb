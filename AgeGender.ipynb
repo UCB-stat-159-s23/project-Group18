{
 "cells": [
  {
   "cell_type": "code",
   "execution_count": 1,
   "id": "d243585d-da1c-4468-bc4f-0e455c927c85",
   "metadata": {},
   "outputs": [],
   "source": [
    "import numpy as np\n",
    "import pandas as pd\n",
    "import matplotlib.pyplot as plt\n",
    "import seaborn as sns"
   ]
  },
  {
   "cell_type": "code",
   "execution_count": 15,
   "id": "43d749fe-5bb2-4d1b-a327-3841529ad624",
   "metadata": {},
   "outputs": [
    {
     "data": {
      "text/html": [
       "<div>\n",
       "<style scoped>\n",
       "    .dataframe tbody tr th:only-of-type {\n",
       "        vertical-align: middle;\n",
       "    }\n",
       "\n",
       "    .dataframe tbody tr th {\n",
       "        vertical-align: top;\n",
       "    }\n",
       "\n",
       "    .dataframe thead th {\n",
       "        text-align: right;\n",
       "    }\n",
       "</style>\n",
       "<table border=\"1\" class=\"dataframe\">\n",
       "  <thead>\n",
       "    <tr style=\"text-align: right;\">\n",
       "      <th></th>\n",
       "      <th>ID_Zenodo</th>\n",
       "      <th>date_all</th>\n",
       "      <th>year</th>\n",
       "      <th>month</th>\n",
       "      <th>day</th>\n",
       "      <th>dayoftheweek</th>\n",
       "      <th>hour</th>\n",
       "      <th>mentalhealth_survey</th>\n",
       "      <th>occurrence_mental</th>\n",
       "      <th>bienestar</th>\n",
       "      <th>...</th>\n",
       "      <th>education</th>\n",
       "      <th>covid_work</th>\n",
       "      <th>covid_mood</th>\n",
       "      <th>covid_sleep</th>\n",
       "      <th>covid_espacios</th>\n",
       "      <th>covid_aire</th>\n",
       "      <th>covid_motor</th>\n",
       "      <th>covid_electric</th>\n",
       "      <th>covid_bikewalk</th>\n",
       "      <th>covid_public_trans</th>\n",
       "    </tr>\n",
       "  </thead>\n",
       "  <tbody>\n",
       "    <tr>\n",
       "      <th>0</th>\n",
       "      <td>71</td>\n",
       "      <td>22190</td>\n",
       "      <td>2020</td>\n",
       "      <td>10</td>\n",
       "      <td>2</td>\n",
       "      <td>4</td>\n",
       "      <td>18</td>\n",
       "      <td>Yes</td>\n",
       "      <td>1.0</td>\n",
       "      <td>9.0</td>\n",
       "      <td>...</td>\n",
       "      <td>Universitario</td>\n",
       "      <td>Ha empeorado mucho</td>\n",
       "      <td>Ha empeorado mucho</td>\n",
       "      <td>Ha empeorado un poco</td>\n",
       "      <td>Le doy más importancia que antes</td>\n",
       "      <td>Le doy más importancia que antes</td>\n",
       "      <td>Lo utilizo igual que antes</td>\n",
       "      <td>Lo utilizo igual que antes</td>\n",
       "      <td>Lo utilizo más que antes</td>\n",
       "      <td>Lo utilizo igual que antes</td>\n",
       "    </tr>\n",
       "    <tr>\n",
       "      <th>1</th>\n",
       "      <td>112</td>\n",
       "      <td>22202</td>\n",
       "      <td>2020</td>\n",
       "      <td>10</td>\n",
       "      <td>14</td>\n",
       "      <td>2</td>\n",
       "      <td>22</td>\n",
       "      <td>Yes</td>\n",
       "      <td>2.0</td>\n",
       "      <td>8.0</td>\n",
       "      <td>...</td>\n",
       "      <td>Universitario</td>\n",
       "      <td>Ha empeorado mucho</td>\n",
       "      <td>Ha empeorado un poco</td>\n",
       "      <td>No ha cambiado</td>\n",
       "      <td>Le doy más importancia que antes</td>\n",
       "      <td>Le doy más importancia que antes</td>\n",
       "      <td>Lo utilizo igual que antes</td>\n",
       "      <td>NaN</td>\n",
       "      <td>Lo utilizo más que antes</td>\n",
       "      <td>Lo utilizo menos que antes</td>\n",
       "    </tr>\n",
       "    <tr>\n",
       "      <th>2</th>\n",
       "      <td>110</td>\n",
       "      <td>22217</td>\n",
       "      <td>2020</td>\n",
       "      <td>10</td>\n",
       "      <td>29</td>\n",
       "      <td>3</td>\n",
       "      <td>18</td>\n",
       "      <td>Yes</td>\n",
       "      <td>10.0</td>\n",
       "      <td>9.0</td>\n",
       "      <td>...</td>\n",
       "      <td>Universitario</td>\n",
       "      <td>Ha empeorado mucho</td>\n",
       "      <td>No ha cambiado</td>\n",
       "      <td>No ha cambiado</td>\n",
       "      <td>Le doy más importancia que antes</td>\n",
       "      <td>Le doy más importancia que antes</td>\n",
       "      <td>Lo utilizo igual que antes</td>\n",
       "      <td>Lo utilizo más que antes</td>\n",
       "      <td>Lo utilizo más que antes</td>\n",
       "      <td>Lo utilizo menos que antes</td>\n",
       "    </tr>\n",
       "    <tr>\n",
       "      <th>3</th>\n",
       "      <td>115</td>\n",
       "      <td>22222</td>\n",
       "      <td>2020</td>\n",
       "      <td>11</td>\n",
       "      <td>3</td>\n",
       "      <td>1</td>\n",
       "      <td>18</td>\n",
       "      <td>Yes</td>\n",
       "      <td>14.0</td>\n",
       "      <td>3.0</td>\n",
       "      <td>...</td>\n",
       "      <td>Universitario</td>\n",
       "      <td>Ha empeorado mucho</td>\n",
       "      <td>Ha empeorado un poco</td>\n",
       "      <td>Ha empeorado un poco</td>\n",
       "      <td>Le doy más importancia que antes</td>\n",
       "      <td>Le doy más importancia que antes</td>\n",
       "      <td>Lo utilizo igual que antes</td>\n",
       "      <td>Lo utilizo igual que antes</td>\n",
       "      <td>Lo utilizo igual que antes</td>\n",
       "      <td>Lo utilizo menos que antes</td>\n",
       "    </tr>\n",
       "    <tr>\n",
       "      <th>4</th>\n",
       "      <td>135</td>\n",
       "      <td>22231</td>\n",
       "      <td>2020</td>\n",
       "      <td>11</td>\n",
       "      <td>12</td>\n",
       "      <td>3</td>\n",
       "      <td>22</td>\n",
       "      <td>Yes</td>\n",
       "      <td>12.0</td>\n",
       "      <td>9.0</td>\n",
       "      <td>...</td>\n",
       "      <td>Universitario</td>\n",
       "      <td>Ha empeorado mucho</td>\n",
       "      <td>Ha empeorado un poco</td>\n",
       "      <td>Ha empeorado un poco</td>\n",
       "      <td>Le doy más importancia que antes</td>\n",
       "      <td>No ha cambiado</td>\n",
       "      <td>NaN</td>\n",
       "      <td>NaN</td>\n",
       "      <td>Lo utilizo menos que antes</td>\n",
       "      <td>Lo utilizo más que antes</td>\n",
       "    </tr>\n",
       "  </tbody>\n",
       "</table>\n",
       "<p>5 rows × 95 columns</p>\n",
       "</div>"
      ],
      "text/plain": [
       "   ID_Zenodo  date_all  year  month  day  dayoftheweek  hour  \\\n",
       "0         71     22190  2020     10    2             4    18   \n",
       "1        112     22202  2020     10   14             2    22   \n",
       "2        110     22217  2020     10   29             3    18   \n",
       "3        115     22222  2020     11    3             1    18   \n",
       "4        135     22231  2020     11   12             3    22   \n",
       "\n",
       "  mentalhealth_survey  occurrence_mental  bienestar  ...      education  \\\n",
       "0                 Yes                1.0        9.0  ...  Universitario   \n",
       "1                 Yes                2.0        8.0  ...  Universitario   \n",
       "2                 Yes               10.0        9.0  ...  Universitario   \n",
       "3                 Yes               14.0        3.0  ...  Universitario   \n",
       "4                 Yes               12.0        9.0  ...  Universitario   \n",
       "\n",
       "           covid_work            covid_mood           covid_sleep  \\\n",
       "0  Ha empeorado mucho    Ha empeorado mucho  Ha empeorado un poco   \n",
       "1  Ha empeorado mucho  Ha empeorado un poco        No ha cambiado   \n",
       "2  Ha empeorado mucho        No ha cambiado        No ha cambiado   \n",
       "3  Ha empeorado mucho  Ha empeorado un poco  Ha empeorado un poco   \n",
       "4  Ha empeorado mucho  Ha empeorado un poco  Ha empeorado un poco   \n",
       "\n",
       "                     covid_espacios                        covid_aire  \\\n",
       "0  Le doy más importancia que antes  Le doy más importancia que antes   \n",
       "1  Le doy más importancia que antes  Le doy más importancia que antes   \n",
       "2  Le doy más importancia que antes  Le doy más importancia que antes   \n",
       "3  Le doy más importancia que antes  Le doy más importancia que antes   \n",
       "4  Le doy más importancia que antes                    No ha cambiado   \n",
       "\n",
       "                  covid_motor              covid_electric  \\\n",
       "0  Lo utilizo igual que antes  Lo utilizo igual que antes   \n",
       "1  Lo utilizo igual que antes                         NaN   \n",
       "2  Lo utilizo igual que antes    Lo utilizo más que antes   \n",
       "3  Lo utilizo igual que antes  Lo utilizo igual que antes   \n",
       "4                         NaN                         NaN   \n",
       "\n",
       "               covid_bikewalk          covid_public_trans  \n",
       "0    Lo utilizo más que antes  Lo utilizo igual que antes  \n",
       "1    Lo utilizo más que antes  Lo utilizo menos que antes  \n",
       "2    Lo utilizo más que antes  Lo utilizo menos que antes  \n",
       "3  Lo utilizo igual que antes  Lo utilizo menos que antes  \n",
       "4  Lo utilizo menos que antes    Lo utilizo más que antes  \n",
       "\n",
       "[5 rows x 95 columns]"
      ]
     },
     "execution_count": 15,
     "metadata": {},
     "output_type": "execute_result"
    }
   ],
   "source": [
    "df = pd.read_csv('data/CitieSHealth_BCN_DATA_PanelStudy_20220414.csv')\n",
    "df.head()"
   ]
  },
  {
   "cell_type": "code",
   "execution_count": 45,
   "id": "3281f400-0ae4-4c19-9744-8eb9101d772a",
   "metadata": {},
   "outputs": [
    {
     "data": {
      "text/html": [
       "<div>\n",
       "<style scoped>\n",
       "    .dataframe tbody tr th:only-of-type {\n",
       "        vertical-align: middle;\n",
       "    }\n",
       "\n",
       "    .dataframe tbody tr th {\n",
       "        vertical-align: top;\n",
       "    }\n",
       "\n",
       "    .dataframe thead th {\n",
       "        text-align: right;\n",
       "    }\n",
       "</style>\n",
       "<table border=\"1\" class=\"dataframe\">\n",
       "  <thead>\n",
       "    <tr style=\"text-align: right;\">\n",
       "      <th></th>\n",
       "      <th>ID_Zenodo</th>\n",
       "      <th>date_all</th>\n",
       "      <th>year</th>\n",
       "      <th>month</th>\n",
       "      <th>day</th>\n",
       "      <th>dayoftheweek</th>\n",
       "      <th>hour</th>\n",
       "      <th>mentalhealth_survey</th>\n",
       "      <th>occurrence_mental</th>\n",
       "      <th>bienestar</th>\n",
       "      <th>...</th>\n",
       "      <th>covid_work</th>\n",
       "      <th>covid_mood</th>\n",
       "      <th>covid_sleep</th>\n",
       "      <th>covid_espacios</th>\n",
       "      <th>covid_aire</th>\n",
       "      <th>covid_motor</th>\n",
       "      <th>covid_electric</th>\n",
       "      <th>covid_bikewalk</th>\n",
       "      <th>covid_public_trans</th>\n",
       "      <th>datetime</th>\n",
       "    </tr>\n",
       "  </thead>\n",
       "  <tbody>\n",
       "    <tr>\n",
       "      <th>0</th>\n",
       "      <td>71</td>\n",
       "      <td>22190</td>\n",
       "      <td>2020</td>\n",
       "      <td>10</td>\n",
       "      <td>2</td>\n",
       "      <td>4</td>\n",
       "      <td>18</td>\n",
       "      <td>Yes</td>\n",
       "      <td>1.0</td>\n",
       "      <td>9.0</td>\n",
       "      <td>...</td>\n",
       "      <td>Ha empeorado mucho</td>\n",
       "      <td>Ha empeorado mucho</td>\n",
       "      <td>Ha empeorado un poco</td>\n",
       "      <td>Le doy más importancia que antes</td>\n",
       "      <td>Le doy más importancia que antes</td>\n",
       "      <td>Lo utilizo igual que antes</td>\n",
       "      <td>Lo utilizo igual que antes</td>\n",
       "      <td>Lo utilizo más que antes</td>\n",
       "      <td>Lo utilizo igual que antes</td>\n",
       "      <td>2020-10-02</td>\n",
       "    </tr>\n",
       "    <tr>\n",
       "      <th>1</th>\n",
       "      <td>112</td>\n",
       "      <td>22202</td>\n",
       "      <td>2020</td>\n",
       "      <td>10</td>\n",
       "      <td>14</td>\n",
       "      <td>2</td>\n",
       "      <td>22</td>\n",
       "      <td>Yes</td>\n",
       "      <td>2.0</td>\n",
       "      <td>8.0</td>\n",
       "      <td>...</td>\n",
       "      <td>Ha empeorado mucho</td>\n",
       "      <td>Ha empeorado un poco</td>\n",
       "      <td>No ha cambiado</td>\n",
       "      <td>Le doy más importancia que antes</td>\n",
       "      <td>Le doy más importancia que antes</td>\n",
       "      <td>Lo utilizo igual que antes</td>\n",
       "      <td>NaN</td>\n",
       "      <td>Lo utilizo más que antes</td>\n",
       "      <td>Lo utilizo menos que antes</td>\n",
       "      <td>2020-10-14</td>\n",
       "    </tr>\n",
       "    <tr>\n",
       "      <th>2</th>\n",
       "      <td>110</td>\n",
       "      <td>22217</td>\n",
       "      <td>2020</td>\n",
       "      <td>10</td>\n",
       "      <td>29</td>\n",
       "      <td>3</td>\n",
       "      <td>18</td>\n",
       "      <td>Yes</td>\n",
       "      <td>10.0</td>\n",
       "      <td>9.0</td>\n",
       "      <td>...</td>\n",
       "      <td>Ha empeorado mucho</td>\n",
       "      <td>No ha cambiado</td>\n",
       "      <td>No ha cambiado</td>\n",
       "      <td>Le doy más importancia que antes</td>\n",
       "      <td>Le doy más importancia que antes</td>\n",
       "      <td>Lo utilizo igual que antes</td>\n",
       "      <td>Lo utilizo más que antes</td>\n",
       "      <td>Lo utilizo más que antes</td>\n",
       "      <td>Lo utilizo menos que antes</td>\n",
       "      <td>2020-10-29</td>\n",
       "    </tr>\n",
       "    <tr>\n",
       "      <th>3</th>\n",
       "      <td>115</td>\n",
       "      <td>22222</td>\n",
       "      <td>2020</td>\n",
       "      <td>11</td>\n",
       "      <td>3</td>\n",
       "      <td>1</td>\n",
       "      <td>18</td>\n",
       "      <td>Yes</td>\n",
       "      <td>14.0</td>\n",
       "      <td>3.0</td>\n",
       "      <td>...</td>\n",
       "      <td>Ha empeorado mucho</td>\n",
       "      <td>Ha empeorado un poco</td>\n",
       "      <td>Ha empeorado un poco</td>\n",
       "      <td>Le doy más importancia que antes</td>\n",
       "      <td>Le doy más importancia que antes</td>\n",
       "      <td>Lo utilizo igual que antes</td>\n",
       "      <td>Lo utilizo igual que antes</td>\n",
       "      <td>Lo utilizo igual que antes</td>\n",
       "      <td>Lo utilizo menos que antes</td>\n",
       "      <td>2020-11-03</td>\n",
       "    </tr>\n",
       "    <tr>\n",
       "      <th>4</th>\n",
       "      <td>135</td>\n",
       "      <td>22231</td>\n",
       "      <td>2020</td>\n",
       "      <td>11</td>\n",
       "      <td>12</td>\n",
       "      <td>3</td>\n",
       "      <td>22</td>\n",
       "      <td>Yes</td>\n",
       "      <td>12.0</td>\n",
       "      <td>9.0</td>\n",
       "      <td>...</td>\n",
       "      <td>Ha empeorado mucho</td>\n",
       "      <td>Ha empeorado un poco</td>\n",
       "      <td>Ha empeorado un poco</td>\n",
       "      <td>Le doy más importancia que antes</td>\n",
       "      <td>No ha cambiado</td>\n",
       "      <td>NaN</td>\n",
       "      <td>NaN</td>\n",
       "      <td>Lo utilizo menos que antes</td>\n",
       "      <td>Lo utilizo más que antes</td>\n",
       "      <td>2020-11-12</td>\n",
       "    </tr>\n",
       "  </tbody>\n",
       "</table>\n",
       "<p>5 rows × 96 columns</p>\n",
       "</div>"
      ],
      "text/plain": [
       "   ID_Zenodo  date_all  year  month  day  dayoftheweek  hour  \\\n",
       "0         71     22190  2020     10    2             4    18   \n",
       "1        112     22202  2020     10   14             2    22   \n",
       "2        110     22217  2020     10   29             3    18   \n",
       "3        115     22222  2020     11    3             1    18   \n",
       "4        135     22231  2020     11   12             3    22   \n",
       "\n",
       "  mentalhealth_survey  occurrence_mental  bienestar  ...          covid_work  \\\n",
       "0                 Yes                1.0        9.0  ...  Ha empeorado mucho   \n",
       "1                 Yes                2.0        8.0  ...  Ha empeorado mucho   \n",
       "2                 Yes               10.0        9.0  ...  Ha empeorado mucho   \n",
       "3                 Yes               14.0        3.0  ...  Ha empeorado mucho   \n",
       "4                 Yes               12.0        9.0  ...  Ha empeorado mucho   \n",
       "\n",
       "             covid_mood           covid_sleep  \\\n",
       "0    Ha empeorado mucho  Ha empeorado un poco   \n",
       "1  Ha empeorado un poco        No ha cambiado   \n",
       "2        No ha cambiado        No ha cambiado   \n",
       "3  Ha empeorado un poco  Ha empeorado un poco   \n",
       "4  Ha empeorado un poco  Ha empeorado un poco   \n",
       "\n",
       "                     covid_espacios                        covid_aire  \\\n",
       "0  Le doy más importancia que antes  Le doy más importancia que antes   \n",
       "1  Le doy más importancia que antes  Le doy más importancia que antes   \n",
       "2  Le doy más importancia que antes  Le doy más importancia que antes   \n",
       "3  Le doy más importancia que antes  Le doy más importancia que antes   \n",
       "4  Le doy más importancia que antes                    No ha cambiado   \n",
       "\n",
       "                  covid_motor              covid_electric  \\\n",
       "0  Lo utilizo igual que antes  Lo utilizo igual que antes   \n",
       "1  Lo utilizo igual que antes                         NaN   \n",
       "2  Lo utilizo igual que antes    Lo utilizo más que antes   \n",
       "3  Lo utilizo igual que antes  Lo utilizo igual que antes   \n",
       "4                         NaN                         NaN   \n",
       "\n",
       "               covid_bikewalk          covid_public_trans   datetime  \n",
       "0    Lo utilizo más que antes  Lo utilizo igual que antes 2020-10-02  \n",
       "1    Lo utilizo más que antes  Lo utilizo menos que antes 2020-10-14  \n",
       "2    Lo utilizo más que antes  Lo utilizo menos que antes 2020-10-29  \n",
       "3  Lo utilizo igual que antes  Lo utilizo menos que antes 2020-11-03  \n",
       "4  Lo utilizo menos que antes    Lo utilizo más que antes 2020-11-12  \n",
       "\n",
       "[5 rows x 96 columns]"
      ]
     },
     "execution_count": 45,
     "metadata": {},
     "output_type": "execute_result"
    }
   ],
   "source": [
    "df['datetime'] = pd.to_datetime(df['year'].astype(str) + df['month'].astype(str) + df['day'].astype(str), format='%Y%m%d')\n",
    "df.head()"
   ]
  },
  {
   "cell_type": "code",
   "execution_count": 16,
   "id": "7b2261d4-e9a2-4b34-bcb3-bd0c0694e739",
   "metadata": {},
   "outputs": [
    {
     "data": {
      "text/plain": [
       "Index(['ID_Zenodo', 'date_all', 'year', 'month', 'day', 'dayoftheweek', 'hour',\n",
       "       'mentalhealth_survey', 'occurrence_mental', 'bienestar', 'energia',\n",
       "       'estres', 'sueno', 'horasfuera', 'actividadfisica', 'ordenador',\n",
       "       'dieta', 'alcohol', 'drogas', 'bebida', 'enfermo', 'otrofactor',\n",
       "       'stroop_test', 'occurrence_stroop', 'mean_incongruent', 'correct',\n",
       "       'response_duration_ms', 'performance', 'mean_congruent',\n",
       "       'inhib_control', 'z_performance', 'z_mean_incongruent',\n",
       "       'z_inhib_control', 'no2bcn_24h', 'no2bcn_12h', 'no2gps_24h',\n",
       "       'no2gps_12h', 'no2bcn_12h_x30', 'no2bcn_24h_x30', 'no2gps_12h_x30',\n",
       "       'no2gps_24h_x30', 'min_gps', 'hour_gps', 'pm25bcn', 'BCμg',\n",
       "       'sec_noise55_day', 'sec_noise65_day', 'sec_greenblue_day',\n",
       "       'hours_noise_55_day', 'hours_noise_65_day', 'hours_greenblue_day',\n",
       "       'tmean_24h', 'tmean_12h', 'humi_24h', 'humi_12h', 'pressure_24h',\n",
       "       'pressure_12h', 'precip_24h', 'precip_12h', 'precip_12h_binary',\n",
       "       'precip_24h_binary', 'maxwindspeed_24h', 'maxwindspeed_12h',\n",
       "       'noise_total_LDEN_55', 'access_greenbluespaces_300mbuff', 'µgm3',\n",
       "       'incidence_cat', 'start_day', 'start_month', 'start_year', 'start_hour',\n",
       "       'end_day', 'end_month', 'end_year', 'end_hour', 'Totaltime',\n",
       "       'Totaltime_estimated', 'Houron', 'Houroff', 'age_yrs', 'yearbirth',\n",
       "       'smoke', 'psycho', 'gender', 'district', 'education', 'covid_work',\n",
       "       'covid_mood', 'covid_sleep', 'covid_espacios', 'covid_aire',\n",
       "       'covid_motor', 'covid_electric', 'covid_bikewalk',\n",
       "       'covid_public_trans'],\n",
       "      dtype='object')"
      ]
     },
     "execution_count": 16,
     "metadata": {},
     "output_type": "execute_result"
    }
   ],
   "source": [
    "df.columns"
   ]
  },
  {
   "cell_type": "code",
   "execution_count": 17,
   "id": "bc4fb8ac-9a33-432e-88b2-6eddf47bb960",
   "metadata": {},
   "outputs": [
    {
     "data": {
      "text/plain": [
       "86     20\n",
       "216    17\n",
       "79     16\n",
       "98     16\n",
       "201    15\n",
       "       ..\n",
       "198     3\n",
       "49      3\n",
       "36      2\n",
       "126     2\n",
       "173     1\n",
       "Name: ID_Zenodo, Length: 288, dtype: int64"
      ]
     },
     "execution_count": 17,
     "metadata": {},
     "output_type": "execute_result"
    }
   ],
   "source": [
    "df['ID_Zenodo'].value_counts() #most people appear many times in the dataset"
   ]
  },
  {
   "cell_type": "code",
   "execution_count": 72,
   "id": "758a203c-5f6d-46b7-ae88-c1c4217d3763",
   "metadata": {},
   "outputs": [
    {
     "data": {
      "image/png": "[encoded data removed]",
      "text/plain": [
       "<Figure size 640x480 with 1 Axes>"
      ]
     },
     "metadata": {},
     "output_type": "display_data"
    }
   ],
   "source": [
    "for i in [86, 216, 79, 98, 201]:\n",
    "    sns.lineplot(x='datetime', y='performance', data = df[df['ID_Zenodo'] == i], label=str(i))\n",
    "    plt.legend(loc=(1.04, 0.7));"
   ]
  },
  {
   "cell_type": "markdown",
   "id": "65a224eb-3255-4291-b995-1cc1e392b5c5",
   "metadata": {
    "user_expressions": []
   },
   "source": [
    "How do the other factors vary by age and gender? \\\n",
    "How do responses in mental health tests vary by age and gender."
   ]
  },
  {
   "cell_type": "code",
   "execution_count": 9,
   "id": "4dc009fa-3a5a-4462-b49d-ff270a1c9a0d",
   "metadata": {},
   "outputs": [],
   "source": [
    "# distributions of age and gender"
   ]
  },
  {
   "cell_type": "code",
   "execution_count": 3,
   "id": "a77e0d4f-a445-43c9-98c8-3dc280af2619",
   "metadata": {},
   "outputs": [
    {
     "data": {
      "text/plain": [
       "(array([269., 332., 363., 377., 376., 254., 172.,  46.,   5.,  22.]),\n",
       " array([18. , 23.8, 29.6, 35.4, 41.2, 47. , 52.8, 58.6, 64.4, 70.2, 76. ]),\n",
       " <BarContainer object of 10 artists>)"
      ]
     },
     "execution_count": 3,
     "metadata": {},
     "output_type": "execute_result"
    },
    {
     "data": {
      "image/png": "[encoded data removed]",
      "text/plain": [
       "<Figure size 640x480 with 1 Axes>"
      ]
     },
     "metadata": {},
     "output_type": "display_data"
    }
   ],
   "source": [
    "plt.hist(df['age'])"
   ]
  },
  {
   "cell_type": "code",
   "execution_count": 8,
   "id": "a89a0508-e758-4735-ad3c-abdbb8470a82",
   "metadata": {},
   "outputs": [
    {
     "data": {
      "text/plain": [
       "<AxesSubplot: >"
      ]
     },
     "execution_count": 8,
     "metadata": {},
     "output_type": "execute_result"
    },
    {
     "data": {
      "image/png": "[encoded data removed]",
      "text/plain": [
       "<Figure size 640x480 with 1 Axes>"
      ]
     },
     "metadata": {},
     "output_type": "display_data"
    }
   ],
   "source": [
    "df['gender'].value_counts().plot(kind='bar')"
   ]
  },
  {
   "cell_type": "code",
   "execution_count": 13,
   "id": "dc571498-3a70-4f85-a4f7-3060c6ed1dcb",
   "metadata": {},
   "outputs": [
    {
     "data": {
      "text/plain": [
       "<AxesSubplot: xlabel='age', ylabel='performance'>"
      ]
     },
     "execution_count": 13,
     "metadata": {},
     "output_type": "execute_result"
    },
    {
     "data": {
      "image/png": "[encoded data removed]",
      "text/plain": [
       "<Figure size 640x480 with 1 Axes>"
      ]
     },
     "metadata": {},
     "output_type": "display_data"
    }
   ],
   "source": [
    "sns.barplot(x=df['age'], y=df['performance'])"
   ]
  }
 ],
 "metadata": {
  "kernelspec": {
   "display_name": "Python 3 (ipykernel)",
   "language": "python",
   "name": "python3"
  },
  "language_info": {
   "codemirror_mode": {
    "name": "ipython",
    "version": 3
   },
   "file_extension": ".py",
   "mimetype": "text/x-python",
   "name": "python",
   "nbconvert_exporter": "python",
   "pygments_lexer": "ipython3",
   "version": "3.10.8"
  }
 },
 "nbformat": 4,
 "nbformat_minor": 5
}
