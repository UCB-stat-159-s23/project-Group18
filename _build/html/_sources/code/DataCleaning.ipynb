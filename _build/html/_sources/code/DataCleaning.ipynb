{
 "cells": [
  {
   "cell_type": "markdown",
   "id": "23646a5d-1222-467c-a954-2dd2f334c7a5",
   "metadata": {
    "tags": [],
    "user_expressions": []
   },
   "source": [
    "## Data Cleaning"
   ]
  },
  {
   "cell_type": "code",
   "execution_count": 1,
   "id": "627333e8-236e-4eba-a98a-386777e46811",
   "metadata": {},
   "outputs": [],
   "source": [
    "import numpy as np\n",
    "import pandas as pd"
   ]
  },
  {
   "cell_type": "code",
   "execution_count": 2,
   "id": "69b639ce-7a81-4849-b146-35f2fb47d677",
   "metadata": {},
   "outputs": [
    {
     "data": {
      "text/plain": [
       "(3348, 95)"
      ]
     },
     "execution_count": 2,
     "metadata": {},
     "output_type": "execute_result"
    }
   ],
   "source": [
    "# import original data\n",
    "health = pd.read_csv('data/CitieSHealth_BCN_DATA_PanelStudy_20220414.csv')\n",
    "np.shape(health)"
   ]
  },
  {
   "cell_type": "code",
   "execution_count": 3,
   "id": "c20f7232-9971-4851-b5a1-143b0704a14a",
   "metadata": {},
   "outputs": [
    {
     "data": {
      "text/plain": [
       "(2221, 16)"
      ]
     },
     "execution_count": 3,
     "metadata": {},
     "output_type": "execute_result"
    }
   ],
   "source": [
    "# The list of variables that we are intersted in\n",
    "variables = ['no2bcn_24h', 'pm25bcn','BCμg','performance',\n",
    "             'occurrence_mental', 'bienestar', 'estres', 'sueno', \n",
    "             'gender', 'dieta', 'alcohol','drogas', 'education', \n",
    "             'access_greenbluespaces_300mbuff','smoke', 'age_yrs']\n",
    "\n",
    "renamed_variables = {'no2bcn_24h':'no2', 'pm25bcn':'pm25', 'BCμg':'black carbon',\n",
    "                     'bienestar': 'wellbeing', 'estres':'stress', 'sueno':'sleep quality',\n",
    "                    'dieta':'diet', 'drogas':'drug_use', 'age_yrs':'age',\n",
    "                     'access_greenbluespaces_300mbuff': 'access_greenbluespaces'}\n",
    "\n",
    "health_clean = (\n",
    "    health\n",
    "    .loc[:, variables]\n",
    "    .convert_dtypes()    #automatically convert variable type\n",
    "    .rename(columns = renamed_variables)\n",
    "    .round(2)\n",
    "    .dropna()\n",
    ")\n",
    "health_clean.shape"
   ]
  },
  {
   "cell_type": "code",
   "execution_count": 4,
   "id": "27108f23-2d01-4aea-95ff-f76557e2b817",
   "metadata": {},
   "outputs": [
    {
     "data": {
      "text/plain": [
       "Mujer     1588\n",
       "Hombre     628\n",
       "Otra         5\n",
       "Name: gender, dtype: Int64"
      ]
     },
     "execution_count": 4,
     "metadata": {},
     "output_type": "execute_result"
    }
   ],
   "source": [
    "health_clean['gender'].value_counts()"
   ]
  },
  {
   "cell_type": "code",
   "execution_count": 79,
   "id": "06d8c439-3a02-4780-8791-1d64c3dd9a5a",
   "metadata": {},
   "outputs": [
    {
     "data": {
      "text/plain": [
       "Universitario       1879\n",
       "Bachillerato         300\n",
       "Primario o menos      42\n",
       "Name: education, dtype: Int64"
      ]
     },
     "execution_count": 79,
     "metadata": {},
     "output_type": "execute_result"
    }
   ],
   "source": [
    "health_clean['education'].value_counts()"
   ]
  },
  {
   "cell_type": "code",
   "execution_count": 6,
   "id": "b53a36bc-292c-464d-b45e-c938f2d8814f",
   "metadata": {},
   "outputs": [
    {
     "data": {
      "text/plain": [
       "(2216, 16)"
      ]
     },
     "execution_count": 6,
     "metadata": {},
     "output_type": "execute_result"
    }
   ],
   "source": [
    "# translate some non-English contents\n",
    "health_clean = health_clean.replace({'gender':{'Mujer':'Female', 'Hombre':'Male', 'Otra':'Other'},\n",
    "                                    'education':{'Universitario':'university', \n",
    "                                                 'Bachillerato':'baccalaureate',\n",
    "                                                 'Primario o menos':'primary or less'}})\n",
    "\n",
    "# Omit 'Other' in gender column since the sample size for other was too small\n",
    "health_clean = health_clean[health_clean['gender'] != 'Other']\n",
    "health_clean.shape"
   ]
  },
  {
   "cell_type": "code",
   "execution_count": 7,
   "id": "151a0ab0-751d-4afd-939e-5976a4586ab8",
   "metadata": {},
   "outputs": [
    {
     "data": {
      "text/html": [
       "<div>\n",
       "<style scoped>\n",
       "    .dataframe tbody tr th:only-of-type {\n",
       "        vertical-align: middle;\n",
       "    }\n",
       "\n",
       "    .dataframe tbody tr th {\n",
       "        vertical-align: top;\n",
       "    }\n",
       "\n",
       "    .dataframe thead th {\n",
       "        text-align: right;\n",
       "    }\n",
       "</style>\n",
       "<table border=\"1\" class=\"dataframe\">\n",
       "  <thead>\n",
       "    <tr style=\"text-align: right;\">\n",
       "      <th></th>\n",
       "      <th>no2</th>\n",
       "      <th>pm25</th>\n",
       "      <th>black carbon</th>\n",
       "      <th>performance</th>\n",
       "      <th>occurrence_mental</th>\n",
       "      <th>wellbeing</th>\n",
       "      <th>stress</th>\n",
       "      <th>sleep quality</th>\n",
       "      <th>gender</th>\n",
       "      <th>diet</th>\n",
       "      <th>alcohol</th>\n",
       "      <th>drug_use</th>\n",
       "      <th>education</th>\n",
       "      <th>access_greenbluespaces</th>\n",
       "      <th>smoke</th>\n",
       "      <th>age</th>\n",
       "    </tr>\n",
       "  </thead>\n",
       "  <tbody>\n",
       "    <tr>\n",
       "      <th>1</th>\n",
       "      <td>28.54</td>\n",
       "      <td>8.16</td>\n",
       "      <td>0.5</td>\n",
       "      <td>51.24</td>\n",
       "      <td>2</td>\n",
       "      <td>8</td>\n",
       "      <td>5</td>\n",
       "      <td>8</td>\n",
       "      <td>Female</td>\n",
       "      <td>Yes</td>\n",
       "      <td>No</td>\n",
       "      <td>No</td>\n",
       "      <td>university</td>\n",
       "      <td>Yes</td>\n",
       "      <td>No</td>\n",
       "      <td>37</td>\n",
       "    </tr>\n",
       "    <tr>\n",
       "      <th>2</th>\n",
       "      <td>44.51</td>\n",
       "      <td>13.38</td>\n",
       "      <td>1.51</td>\n",
       "      <td>56.01</td>\n",
       "      <td>10</td>\n",
       "      <td>9</td>\n",
       "      <td>8</td>\n",
       "      <td>9</td>\n",
       "      <td>Female</td>\n",
       "      <td>Yes</td>\n",
       "      <td>Yes</td>\n",
       "      <td>No</td>\n",
       "      <td>university</td>\n",
       "      <td>Yes</td>\n",
       "      <td>Yes</td>\n",
       "      <td>28</td>\n",
       "    </tr>\n",
       "    <tr>\n",
       "      <th>3</th>\n",
       "      <td>33.81</td>\n",
       "      <td>16.53</td>\n",
       "      <td>1.17</td>\n",
       "      <td>58.18</td>\n",
       "      <td>14</td>\n",
       "      <td>3</td>\n",
       "      <td>5</td>\n",
       "      <td>2</td>\n",
       "      <td>Female</td>\n",
       "      <td>Yes</td>\n",
       "      <td>No</td>\n",
       "      <td>No</td>\n",
       "      <td>university</td>\n",
       "      <td>Yes</td>\n",
       "      <td>No</td>\n",
       "      <td>29</td>\n",
       "    </tr>\n",
       "    <tr>\n",
       "      <th>4</th>\n",
       "      <td>37.86</td>\n",
       "      <td>15.67</td>\n",
       "      <td>1.21</td>\n",
       "      <td>71.48</td>\n",
       "      <td>12</td>\n",
       "      <td>9</td>\n",
       "      <td>6</td>\n",
       "      <td>2</td>\n",
       "      <td>Female</td>\n",
       "      <td>No</td>\n",
       "      <td>Yes</td>\n",
       "      <td>No</td>\n",
       "      <td>university</td>\n",
       "      <td>Yes</td>\n",
       "      <td>No</td>\n",
       "      <td>33</td>\n",
       "    </tr>\n",
       "    <tr>\n",
       "      <th>6</th>\n",
       "      <td>37.82</td>\n",
       "      <td>18.45</td>\n",
       "      <td>1.56</td>\n",
       "      <td>46.05</td>\n",
       "      <td>9</td>\n",
       "      <td>3</td>\n",
       "      <td>5</td>\n",
       "      <td>10</td>\n",
       "      <td>Female</td>\n",
       "      <td>Yes</td>\n",
       "      <td>Yes</td>\n",
       "      <td>No</td>\n",
       "      <td>baccalaureate</td>\n",
       "      <td>No</td>\n",
       "      <td>No</td>\n",
       "      <td>45</td>\n",
       "    </tr>\n",
       "  </tbody>\n",
       "</table>\n",
       "</div>"
      ],
      "text/plain": [
       "     no2   pm25  black carbon  performance  occurrence_mental  wellbeing  \\\n",
       "1  28.54   8.16           0.5        51.24                  2          8   \n",
       "2  44.51  13.38          1.51        56.01                 10          9   \n",
       "3  33.81  16.53          1.17        58.18                 14          3   \n",
       "4  37.86  15.67          1.21        71.48                 12          9   \n",
       "6  37.82  18.45          1.56        46.05                  9          3   \n",
       "\n",
       "   stress  sleep quality  gender diet alcohol drug_use      education  \\\n",
       "1       5              8  Female  Yes      No       No     university   \n",
       "2       8              9  Female  Yes     Yes       No     university   \n",
       "3       5              2  Female  Yes      No       No     university   \n",
       "4       6              2  Female   No     Yes       No     university   \n",
       "6       5             10  Female  Yes     Yes       No  baccalaureate   \n",
       "\n",
       "  access_greenbluespaces smoke  age  \n",
       "1                    Yes    No   37  \n",
       "2                    Yes   Yes   28  \n",
       "3                    Yes    No   29  \n",
       "4                    Yes    No   33  \n",
       "6                     No    No   45  "
      ]
     },
     "execution_count": 7,
     "metadata": {},
     "output_type": "execute_result"
    }
   ],
   "source": [
    "health_clean.head()"
   ]
  },
  {
   "cell_type": "code",
   "execution_count": 8,
   "id": "00168a57-18e2-4a2c-bc1c-572fcfdb53ab",
   "metadata": {},
   "outputs": [],
   "source": [
    "# save the file after cleaning\n",
    "health_clean.to_csv('data/CitieSHealth_BCN_DATA_PanelStudy_20220414_Clean.csv', index=False)"
   ]
  },
  {
   "cell_type": "code",
   "execution_count": null,
   "id": "ec3b1162-f299-442e-8f37-3992d84f26dd",
   "metadata": {},
   "outputs": [],
   "source": []
  }
 ],
 "metadata": {
  "kernelspec": {
   "display_name": "Python 3 (ipykernel)",
   "language": "python",
   "name": "python3"
  },
  "language_info": {
   "codemirror_mode": {
    "name": "ipython",
    "version": 3
   },
   "file_extension": ".py",
   "mimetype": "text/x-python",
   "name": "python",
   "nbconvert_exporter": "python",
   "pygments_lexer": "ipython3",
   "version": "3.10.8"
  }
 },
 "nbformat": 4,
 "nbformat_minor": 5
}
