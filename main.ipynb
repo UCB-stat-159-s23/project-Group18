{
 "cells": [
  {
   "cell_type": "markdown",
   "id": "e3f9e60f-d18f-4b02-a19d-e23b2a5adceb",
   "metadata": {
    "user_expressions": []
   },
   "source": [
    "# Air Pollution and Mental Health"
   ]
  },
  {
   "cell_type": "code",
   "execution_count": 1,
   "id": "01ca694e-db1b-4b24-b738-0b99ed754c40",
   "metadata": {},
   "outputs": [],
   "source": [
    "# load packages"
   ]
  },
  {
   "cell_type": "markdown",
   "id": "28c53fb4-c12d-445e-9c56-92f7e51b3f2d",
   "metadata": {
    "user_expressions": []
   },
   "source": [
    "## Introduction"
   ]
  },
  {
   "cell_type": "markdown",
   "id": "6be8a782-b0bb-4887-9250-cce4bcc4c76a",
   "metadata": {
    "user_expressions": []
   },
   "source": [
    "## Data Description"
   ]
  },
  {
   "cell_type": "markdown",
   "id": "880256a3-879f-4615-ad66-dc282ec43111",
   "metadata": {
    "user_expressions": []
   },
   "source": [
    "## Exploratory Data Analysis"
   ]
  },
  {
   "cell_type": "markdown",
   "id": "91f19dfc-869a-41b8-b2be-43210842814c",
   "metadata": {
    "user_expressions": []
   },
   "source": [
    "## Modeling"
   ]
  },
  {
   "cell_type": "markdown",
   "id": "5faa4189-774b-49d5-a5ff-5eb927590c22",
   "metadata": {
    "user_expressions": []
   },
   "source": [
    "## Model Evaluation"
   ]
  },
  {
   "cell_type": "markdown",
   "id": "c7cb55e3-83f1-4a6a-8d58-1de31915253d",
   "metadata": {
    "user_expressions": []
   },
   "source": [
    "## Conclusion"
   ]
  },
  {
   "cell_type": "markdown",
   "id": "2bab69b1-1dd4-436e-9e6c-8967742cfb44",
   "metadata": {
    "user_expressions": []
   },
   "source": [
    "## Author Contributions"
   ]
  }
 ],
 "metadata": {
  "kernelspec": {
   "display_name": "Python 3 (ipykernel)",
   "language": "python",
   "name": "python3"
  },
  "language_info": {
   "codemirror_mode": {
    "name": "ipython",
    "version": 3
   },
   "file_extension": ".py",
   "mimetype": "text/x-python",
   "name": "python",
   "nbconvert_exporter": "python",
   "pygments_lexer": "ipython3",
   "version": "3.10.8"
  }
 },
 "nbformat": 4,
 "nbformat_minor": 5
}
