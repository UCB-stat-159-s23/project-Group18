{
 "cells": [
  {
   "cell_type": "markdown",
   "id": "5a188c46-6ab2-4f8a-8cc2-64a5181d4aa3",
   "metadata": {},
   "source": [
    "## Education and Performance"
   ]
  },
  {
   "cell_type": "code",
   "execution_count": 232,
   "id": "384b64dd-9327-4055-89c0-f9c70568a451",
   "metadata": {},
   "outputs": [],
   "source": [
    "import pandas as pd\n",
    "import numpy as np\n",
    "import seaborn as sns\n",
    "import matplotlib.pyplot as plt"
   ]
  },
  {
   "cell_type": "code",
   "execution_count": 40,
   "id": "361ae424-3ed5-4786-b387-871135f4d3d3",
   "metadata": {},
   "outputs": [],
   "source": [
    "data = pd.read_csv('data/CitieSHealth_BCN_DATA_PanelStudy_20220414_Clean.csv')\n",
    "data"
   ]
  },
  {
   "cell_type": "code",
   "execution_count": 233,
   "id": "c9c8e8dd-a40c-4c9b-b155-8c9426bf53b2",
   "metadata": {},
   "outputs": [],
   "source": [
    "sns.histplot(x = 'performance', hue = 'education', data = data)\n",
    "\n",
    "plt.savefig('outputs/histogram_for_performance')"
   ]
  },
  {
   "cell_type": "code",
   "execution_count": 234,
   "id": "c5267f03-bb8d-4c6d-950b-9d99fe3aa69c",
   "metadata": {},
   "outputs": [],
   "source": [
    "sns.histplot(x = 'occurrence_mental', hue = 'education', data = data)\n",
    "\n",
    "plt.savefig('outputs/histogram_for_occurrence_mental')"
   ]
  },
  {
   "cell_type": "code",
   "execution_count": 235,
   "id": "a5a410dc-ce08-405f-b00e-0a894ae8b72b",
   "metadata": {},
   "outputs": [],
   "source": [
    "sns.histplot(x = 'stress', hue = 'education', data = data)\n",
    "\n",
    "plt.savefig('outputs/histogram_for_stress')"
   ]
  },
  {
   "cell_type": "code",
   "execution_count": 236,
   "id": "80b27115-ef79-4f25-b800-a2e1d8952160",
   "metadata": {},
   "outputs": [],
   "source": [
    "sns.barplot(x = 'education', y = 'stress', data = data)\n",
    "\n",
    "plt.savefig('outputs/barplot_for_stressVsEducation')"
   ]
  },
  {
   "cell_type": "code",
   "execution_count": 237,
   "id": "7968afe7-42e7-4c7a-9afa-bb0929de4345",
   "metadata": {},
   "outputs": [],
   "source": [
    "sns.barplot(x = 'education', y = 'occurrence_mental', data = data)\n",
    "\n",
    "plt.savefig('outputs/barplot_for_occurrenceVsEducation')"
   ]
  },
  {
   "cell_type": "code",
   "execution_count": 238,
   "id": "14bdd7c0-03b3-4759-bb4a-41dcae069ca6",
   "metadata": {},
   "outputs": [],
   "source": [
    "sns.barplot(x = 'education', y = 'performance', data = data)\n",
    "\n",
    "plt.savefig('outputs/barplot_for_performanceVsEducation')"
   ]
  },
  {
   "cell_type": "code",
   "execution_count": 239,
   "id": "09c0598f-f8ac-40a0-aa52-cfba46a8596c",
   "metadata": {},
   "outputs": [],
   "source": [
    "sns.scatterplot(x = 'stress', y = 'performance', hue = 'education', data = data)\n",
    "\n",
    "plt.savefig('outputs/scatterplot_for_stressVsperformance')"
   ]
  },
  {
   "cell_type": "code",
   "execution_count": 240,
   "id": "3893b335-7fa3-4168-804d-9c5cd0875e1e",
   "metadata": {},
   "outputs": [],
   "source": [
    "sns.scatterplot(x = 'occurrence_mental', y = 'performance', hue = 'education', data = data)\n",
    "\n",
    "plt.savefig('outputs/scatterplot_for_occurrenceVsperformance')"
   ]
  },
  {
   "cell_type": "code",
   "execution_count": 220,
   "id": "b6106aa0-d935-4601-9c84-acfcfe6ef17b",
   "metadata": {},
   "outputs": [],
   "source": [
    "average_mental_health_issue_occurence_univ = np.mean(data[data['education'] == 'university']['occurrence_mental'])\n",
    "average_mental_health_issue_occurence_bac = np.mean(data[data['education'] == 'baccalaureate']['occurrence_mental'])\n",
    "average_mental_health_issue_occurence_pri_less = np.mean(data[data['education'] == 'primary or less']['occurrence_mental'])\n",
    "\n",
    "print('Average Mental Health Issue Occurence for people with University education is {:0.3f}'.format(average_mental_health_issue_occurence_univ))\n",
    "print('Average Mental Health Issue Occurence for people with Baccalaureate education is {:0.3f}'.format(average_mental_health_issue_occurence_bac))\n",
    "print('Average Mental Health Issue Occurence for people with Primary or less education is {:0.3f}'.format(average_mental_health_issue_occurence_pri_less))"
   ]
  },
  {
   "cell_type": "code",
   "execution_count": 221,
   "id": "79e97a47-54b3-4264-8690-cffb7902d77f",
   "metadata": {},
   "outputs": [],
   "source": [
    "average_stress_univ = np.mean(data[data['education'] == 'university']['stress'])\n",
    "average_stress_bac = np.mean(data[data['education'] == 'baccalaureate']['stress'])\n",
    "average_stress_pri_less = np.mean(data[data['education'] == 'primary or less']['stress'])\n",
    "\n",
    "print('Average Stress Level for people with University education is {:0.3f}'.format(average_stress_univ))\n",
    "print('Average Stress Level for people with Baccalaureate education is {:0.3f}'.format(average_stress_bac))\n",
    "print('Average Stress Level for people with Primary or less education is {:0.3f}'.format(average_stress_pri_less))"
   ]
  },
  {
   "cell_type": "code",
   "execution_count": 222,
   "id": "a5e000d6-a7e2-452d-be0c-d16ea83c504f",
   "metadata": {},
   "outputs": [],
   "source": [
    "average_performance_univ = np.mean(data[data['education'] == 'university']['performance'])\n",
    "average_performance_bac = np.mean(data[data['education'] == 'baccalaureate']['performance'])\n",
    "average_performance_pri_less = np.mean(data[data['education'] == 'primary or less']['performance'])\n",
    "\n",
    "print('Average Stroop Test score for people with University education is {:0.3f}'.format(average_performance_univ))\n",
    "print('Average Stroop Test score for people with Baccalaureate education is {:0.3f}'.format(average_performance_bac))\n",
    "print('Average Stroop Test score for people with Primary or less education is {:0.3f}'.format(average_performance_pri_less))"
   ]
  },
  {
   "cell_type": "code",
   "execution_count": 210,
   "id": "517f7a50-a1d3-49cb-b937-a205c06e5bd3",
   "metadata": {},
   "outputs": [],
   "source": [
    "def hypothesis_testing(educ1, educ2, column, data, observed_diff, cutoff):\n",
    "    diffs = []\n",
    "    for i in np.arange(20000):\n",
    "        data['shuffled_education'] = data['education'].sample(frac = 1, replace = False).values\n",
    "        diff = np.abs(np.mean(data[data['shuffled_education'] == educ1][column]) - np.mean(data[data['shuffled_education'] == educ2][column]))\n",
    "        diffs += [diff]\n",
    "        data = data.drop(['shuffled_education'], axis = 1)\n",
    "        \n",
    "    pvalue = sum(observed_diff <= diffs) / len(diffs)\n",
    "    if pvalue <= cutoff:\n",
    "        print('P value is {:0.3f}'.format(pvalue) + '.' + ' ' + 'Thus, Reject the Null Hypothesis')\n",
    "    else:\n",
    "        print('P value is {:0.3f}'.format(pvalue) + '.' + ' ' + 'Thus, Fail to Rejct the Null Hypothesis')"
   ]
  },
  {
   "cell_type": "code",
   "execution_count": 211,
   "id": "3ae3f56c-f973-440b-8ac9-e51a1b7ad9e8",
   "metadata": {},
   "outputs": [],
   "source": [
    "observed_diff = np.abs(average_mental_health_issue_occurence_univ - average_mental_health_issue_occurence_bac)\n",
    "hypothesis_testing('university', 'baccalaureate', 'occurrence_mental', data, observed_diff, 0.05)"
   ]
  },
  {
   "cell_type": "code",
   "execution_count": 212,
   "id": "0cbf10ac-adfc-40fa-84c2-5240a4897490",
   "metadata": {},
   "outputs": [],
   "source": [
    "observed_diff = np.abs(average_mental_health_issue_occurence_univ - average_mental_health_issue_occurence_pri_less)\n",
    "hypothesis_testing('university', 'primary or less', 'occurrence_mental', data, observed_diff, 0.05)"
   ]
  },
  {
   "cell_type": "code",
   "execution_count": 213,
   "id": "bf7699be-76a3-401c-9e7d-03f8708e01cf",
   "metadata": {},
   "outputs": [],
   "source": [
    "observed_diff = np.abs(average_mental_health_issue_occurence_bac - average_mental_health_issue_occurence_pri_less)\n",
    "hypothesis_testing('baccalaureate', 'primary or less', 'occurrence_mental', data, observed_diff, 0.05)"
   ]
  },
  {
   "cell_type": "code",
   "execution_count": 214,
   "id": "c14b85b7-a6bd-4444-a4dd-31616385e81a",
   "metadata": {},
   "outputs": [],
   "source": [
    "observed_diff = np.abs(average_stress_univ - average_stress_bac)\n",
    "hypothesis_testing('university', 'baccalaureate', 'stress', data, observed_diff, 0.05)"
   ]
  },
  {
   "cell_type": "code",
   "execution_count": 215,
   "id": "fea09d0a-56ed-4bb4-b4af-8886696a7f45",
   "metadata": {},
   "outputs": [],
   "source": [
    "observed_diff = np.abs(average_stress_univ - average_stress_pri_less)\n",
    "hypothesis_testing('university', 'primary or less', 'stress', data, observed_diff, 0.05)"
   ]
  },
  {
   "cell_type": "code",
   "execution_count": 216,
   "id": "3fc2451d-41de-480e-94a0-798b4108f52d",
   "metadata": {},
   "outputs": [],
   "source": [
    "observed_diff = np.abs(average_stress_pri_less - average_stress_bac)\n",
    "hypothesis_testing('primary or less', 'baccalaureate', 'stress', data, observed_diff, 0.05)"
   ]
  },
  {
   "cell_type": "code",
   "execution_count": 217,
   "id": "4d743a24-6235-460c-b806-b6543a85491a",
   "metadata": {},
   "outputs": [],
   "source": [
    "observed_diff = np.abs(average_performance_univ - average_performance_bac)\n",
    "hypothesis_testing('university', 'baccalaureate', 'performance', data, observed_diff, 0.05)"
   ]
  },
  {
   "cell_type": "code",
   "execution_count": 218,
   "id": "290f9cde-2a24-4145-988f-6f8294977abd",
   "metadata": {},
   "outputs": [],
   "source": [
    "observed_diff = np.abs(average_performance_univ - average_performance_pri_less)\n",
    "hypothesis_testing('university', 'primary or less', 'performance', data, observed_diff, 0.05)"
   ]
  },
  {
   "cell_type": "code",
   "execution_count": 219,
   "id": "fccd3b00-1a5c-4d96-aed3-2c9d90e8e78d",
   "metadata": {},
   "outputs": [],
   "source": [
    "observed_diff = np.abs(average_performance_bac - average_performance_pri_less)\n",
    "hypothesis_testing('baccalaureate', 'primary or less', 'performance', data, observed_diff, 0.05)"
   ]
  },
  {
   "cell_type": "code",
   "execution_count": null,
   "id": "671c70b0-2b93-4347-a27d-ea35a811a854",
   "metadata": {},
   "outputs": [],
   "source": []
  }
 ],
 "metadata": {
  "kernelspec": {
   "display_name": "Python 3 (ipykernel)",
   "language": "python",
   "name": "python3"
  },
  "language_info": {
   "codemirror_mode": {
    "name": "ipython",
    "version": 3
   },
   "file_extension": ".py",
   "mimetype": "text/x-python",
   "name": "python",
   "nbconvert_exporter": "python",
   "pygments_lexer": "ipython3",
   "version": "3.10.8"
  }
 },
 "nbformat": 4,
 "nbformat_minor": 5
}
